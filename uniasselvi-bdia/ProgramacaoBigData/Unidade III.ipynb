{
 "cells": [
  {
   "cell_type": "markdown",
   "metadata": {},
   "source": [
    "# FUNÇÕES EM PYTHON"
   ]
  },
  {
   "cell_type": "code",
   "execution_count": 1,
   "metadata": {},
   "outputs": [
    {
     "name": "stdout",
     "output_type": "stream",
     "text": [
      "a\n",
      "100\n",
      "True\n"
     ]
    }
   ],
   "source": [
    "def minhafuncao(entrada): \n",
    "    saida = entrada\n",
    "    return saida\n",
    "print(minhafuncao(\"a\")) \n",
    "print(minhafuncao(100)) \n",
    "print(minhafuncao(True))"
   ]
  },
  {
   "cell_type": "markdown",
   "metadata": {},
   "source": [
    "## DEFININDO TIPOS DE DADOS EM FUNÇÕES"
   ]
  },
  {
   "cell_type": "code",
   "execution_count": 4,
   "metadata": {},
   "outputs": [
    {
     "data": {
      "text/plain": [
       "30"
      ]
     },
     "execution_count": 4,
     "metadata": {},
     "output_type": "execute_result"
    }
   ],
   "source": [
    "lista = [10, 20, 30, 40, 50]\n",
    "def retorna_item(l: list, index: int) -> int:\n",
    "    return l[index]\n",
    "#passa os parametros conforme o esperado \n",
    "retorna_item(lista,2)\n",
    "#retorna_item(lista,2.5) \n",
    "#retorna_item(1,2)"
   ]
  },
  {
   "cell_type": "markdown",
   "metadata": {},
   "source": [
    "## CRIANDO FUNÇÕES COM ARGUMENTOS PADRÃO"
   ]
  },
  {
   "cell_type": "code",
   "execution_count": 5,
   "metadata": {},
   "outputs": [
    {
     "name": "stdout",
     "output_type": "stream",
     "text": [
      "Nome: João\n",
      "Idade 0\n",
      "Nome: Felipe\n",
      "Idade 19\n"
     ]
    }
   ],
   "source": [
    "def escreve(nome, idade=0):\n",
    "    print(\"Nome:\", nome) \n",
    "    print(\"Idade\", idade)\n",
    "\n",
    "escreve(\"João\") \n",
    "escreve(\"Felipe\", 19)"
   ]
  },
  {
   "cell_type": "markdown",
   "metadata": {},
   "source": [
    "- Exemplo1: crie uma função que receba um objeto qualquer (lista, array ou Da- taFrame), percorra os elementos escrevendo seus itens na tela e escreva o tipo do objeto."
   ]
  },
  {
   "cell_type": "code",
   "execution_count": 9,
   "metadata": {},
   "outputs": [
    {
     "name": "stdout",
     "output_type": "stream",
     "text": [
      "O objeto é do tipo: <class 'pandas.core.series.Series'>\n",
      "O objeto contém os seguintes elementos:\n",
      "55\n",
      "89\n",
      "94\n",
      "20\n",
      "65\n",
      "18\n",
      "46\n",
      "89\n",
      "29\n",
      "4\n",
      "96\n",
      "71\n",
      "90\n",
      "25\n",
      "51\n",
      "86\n",
      "90\n",
      "1\n",
      "78\n",
      "81\n",
      "41\n",
      "93\n",
      "6\n",
      "55\n",
      "81\n",
      "78\n",
      "32\n",
      "82\n",
      "0\n",
      "51\n",
      "29\n",
      "83\n",
      "47\n",
      "57\n",
      "36\n",
      "37\n",
      "55\n",
      "35\n",
      "3\n",
      "73\n",
      "4\n",
      "74\n",
      "20\n",
      "99\n",
      "76\n",
      "53\n",
      "23\n",
      "19\n",
      "19\n",
      "6\n",
      "3\n",
      "72\n",
      "91\n",
      "13\n",
      "61\n",
      "53\n",
      "19\n",
      "16\n",
      "13\n",
      "63\n",
      "76\n",
      "68\n",
      "82\n",
      "9\n",
      "25\n",
      "96\n",
      "59\n",
      "92\n",
      "51\n",
      "90\n",
      "82\n",
      "1\n",
      "14\n",
      "36\n",
      "86\n",
      "3\n",
      "91\n",
      "42\n",
      "35\n",
      "20\n",
      "77\n",
      "32\n",
      "32\n",
      "13\n",
      "70\n",
      "59\n",
      "40\n",
      "26\n",
      "51\n",
      "18\n",
      "87\n",
      "4\n",
      "8\n",
      "84\n",
      "3\n",
      "78\n",
      "99\n",
      "70\n",
      "8\n",
      "23\n",
      "O objeto é do tipo: <class 'numpy.ndarray'>\n",
      "O objeto contém os seguintes elementos:\n",
      "21\n",
      "60\n",
      "100\n",
      "96\n",
      "94\n",
      "65\n",
      "70\n",
      "8\n",
      "75\n",
      "56\n",
      "O objeto é do tipo: <class 'list'>\n",
      "O objeto contém os seguintes elementos:\n",
      "21\n",
      "1\n",
      "35\n",
      "31\n",
      "46\n",
      "90\n",
      "98\n",
      "91\n",
      "59\n",
      "0\n"
     ]
    }
   ],
   "source": [
    "import numpy as np \n",
    "import random \n",
    "import pandas as pd\n",
    "#cria a função\n",
    "def percorre(objeto):\n",
    "    #escreve o tipo do objeto\n",
    "    print(\"O objeto é do tipo:\", type(objeto))\n",
    "    print(\"O objeto contém os seguintes elementos:\") \n",
    "    for item in objeto:\n",
    "        print(item)\n",
    "\n",
    "        #cria objetos com dados aleatórios\n",
    "df = pd.DataFrame(np.random.randint(0,100,size=(100, 1)), columns=list('A')) \n",
    "lst = random.sample(range(0, 100), 10)\n",
    "arr = np.random.randint(1,101,10)\n",
    "#chama a função \n",
    "percorre(df['A']) \n",
    "percorre(arr ) \n",
    "percorre(lst)"
   ]
  },
  {
   "cell_type": "markdown",
   "metadata": {},
   "source": [
    "- Exemplo 2: escreva uma função para imprimir uma caixa de estrelas, como a apresentada na sequência, em vários pontos."
   ]
  },
  {
   "cell_type": "code",
   "execution_count": 10,
   "metadata": {},
   "outputs": [
    {
     "name": "stdout",
     "output_type": "stream",
     "text": [
      "***************\n",
      "*             *\n",
      "*             *\n",
      "***************\n"
     ]
    }
   ],
   "source": [
    "def plotar(): \n",
    "    print('*' * 15) \n",
    "    print('*', ' '*11, '*') \n",
    "    print('*', ' '*11, '*') \n",
    "    print('*' * 15)\n",
    "plotar()"
   ]
  },
  {
   "cell_type": "markdown",
   "metadata": {},
   "source": [
    "- Exemplo 3: crie uma função que permita inserir conteúdo dentro de um DataFrame a partir de outro DataFrame e de uma posição específica."
   ]
  },
  {
   "cell_type": "code",
   "execution_count": 13,
   "metadata": {},
   "outputs": [
    {
     "name": "stdout",
     "output_type": "stream",
     "text": [
      "           A         B         C         D\n",
      "0   1.063845 -1.115838  0.239889 -1.937716\n",
      "1  -1.515013 -2.613648  0.550810  0.261348\n",
      "2   0.625993  0.807051 -0.372984  2.327641\n",
      "3   0.365119 -0.784027  0.529957 -0.998136\n",
      "4   0.108796 -1.319405 -0.740995  1.072539\n",
      "..       ...       ...       ...       ...\n",
      "95 -0.999157  0.030621 -0.902783  0.050574\n",
      "96  2.073129 -0.966375 -0.757552 -1.454014\n",
      "97 -1.248166  0.715943  0.262281  1.017362\n",
      "98  0.614259 -0.797958 -0.151887  0.165508\n",
      "99 -0.938249  1.134859  0.281716  1.143766\n",
      "\n",
      "[100 rows x 4 columns]\n",
      "          A         B         C         D\n",
      "0 -0.314980  0.332579 -0.318833 -0.337456\n",
      "1  0.074102  0.455691 -0.412976  0.097557\n",
      "2 -1.074508 -0.510525 -0.418877  0.030036\n",
      "3  0.955869  2.284693 -1.483266  0.804496\n",
      "4  0.079468  0.248541  1.447684  2.241629\n",
      "            A         B         C         D\n",
      "0    1.063845 -1.115838  0.239889 -1.937716\n",
      "1   -0.314980  0.332579 -0.318833 -0.337456\n",
      "2    0.074102  0.455691 -0.412976  0.097557\n",
      "3   -1.074508 -0.510525 -0.418877  0.030036\n",
      "4    0.955869  2.284693 -1.483266  0.804496\n",
      "..        ...       ...       ...       ...\n",
      "100 -0.999157  0.030621 -0.902783  0.050574\n",
      "101  2.073129 -0.966375 -0.757552 -1.454014\n",
      "102 -1.248166  0.715943  0.262281  1.017362\n",
      "103  0.614259 -0.797958 -0.151887  0.165508\n",
      "104 -0.938249  1.134859  0.281716  1.143766\n",
      "\n",
      "[105 rows x 4 columns]\n"
     ]
    }
   ],
   "source": [
    "import pandas as pd \n",
    "import numpy as np\n",
    "def inserir_linha(idx, df, df2): \n",
    "    dfA = df.iloc[:idx, ] \n",
    "    dfB = df.iloc[idx:, ]\n",
    "    df = dfA.append(df2).append(dfB).reset_index(drop = True)\n",
    "    return df\n",
    "#cria um primeiro Dataframe\n",
    "df = pd.DataFrame(np.random.randn(100, 4), columns=list('ABCD')) \n",
    "print(df )\n",
    "#cria um segundo Dataframe\n",
    "df2 = pd.DataFrame(np.random.randn(5, 4), columns=list('ABCD')) \n",
    "print(df2)\n",
    "#Utiliza a função\n",
    "df = inserir_linha(1, df, df2)\n",
    "print(df )"
   ]
  },
  {
   "cell_type": "markdown",
   "metadata": {},
   "source": [
    "# ORIENTAÇÃO A OBJETOS EM PYTHON"
   ]
  },
  {
   "cell_type": "markdown",
   "metadata": {},
   "source": [
    "## CRIAÇÃO DE CLASSE"
   ]
  },
  {
   "cell_type": "code",
   "execution_count": 17,
   "metadata": {},
   "outputs": [
    {
     "name": "stdout",
     "output_type": "stream",
     "text": [
      "15\n"
     ]
    }
   ],
   "source": [
    "class MinhaClasse:\n",
    "    def __init__(self, a, b): \n",
    "        self.a = a\n",
    "        self.b = b\n",
    "    def soma(self): \n",
    "        return self.a + self.b\n",
    "\n",
    "obj = MinhaClasse(5, 10) \n",
    "print(obj.soma())"
   ]
  },
  {
   "cell_type": "markdown",
   "metadata": {},
   "source": [
    "## ENCAPSULAMENTO EM PYTHON"
   ]
  },
  {
   "cell_type": "code",
   "execution_count": 21,
   "metadata": {},
   "outputs": [
    {
     "name": "stdout",
     "output_type": "stream",
     "text": [
      "1\n",
      "1\n",
      "3\n",
      "3\n"
     ]
    }
   ],
   "source": [
    "class A:\n",
    "    a = 1 # atributo publico\n",
    "    __b = 2 # atributo privado a class A\n",
    "\n",
    "class B(A):\n",
    "    __c = 3 # atributo privado a B\n",
    "    def __init__(self): \n",
    "        print(self.a) \n",
    "        print(self.__c)\n",
    "a = A()\n",
    "print(a.a) # imprime 1\n",
    "b = B()\n",
    "#print(b.__b) # Erro, pois __b é privado a classe A.\n",
    "#print(b.__c) # Erro, __c é um atributo privado, somente chamado pela classe.\n",
    "print(b._B__c) # Imprime __c = 3, muito pouco utilizada, mas existe."
   ]
  },
  {
   "cell_type": "markdown",
   "metadata": {},
   "source": [
    "## HERANÇA EM PYTHON"
   ]
  },
  {
   "cell_type": "code",
   "execution_count": 1,
   "metadata": {},
   "outputs": [
    {
     "name": "stdout",
     "output_type": "stream",
     "text": [
      "OláOlá\n",
      "Método 1 do Pai:  None\n",
      "Olá!!!\n",
      "Método 2 do Pai:  None\n",
      "OláOláOláOláOláOláOlá\n",
      "Método 1 do Filho:  None\n",
      "Olá!!!\n",
      "Método 2 do Filho:  None\n",
      "OláAdeus\n",
      "Método 3 do Filho:  None\n"
     ]
    }
   ],
   "source": [
    "#a classe principal é criada \n",
    "class Pai:\n",
    "    def __init__(self, a): \n",
    "        self.a = a\n",
    "    def metodo1(self):\n",
    "        print(self.a*2)\n",
    "    def metodo2(self): \n",
    "        print(self.a+'!!!')\n",
    "\n",
    "class Filho(Pai):\n",
    "    #a inicialização é alterada para receber mais um parametro \n",
    "    def __init__(self, a, b):\n",
    "        self.a = a\n",
    "        self.b = b\n",
    "    #o método 1 é sobrescrito (override) \n",
    "    def metodo1(self):\n",
    "        print(self.a*7)\n",
    "    #o método 1 é sobrescrito (override) \n",
    "    def metodo3(self):\n",
    "        print(self.a + self.b)\n",
    "        \n",
    "p = Pai('Olá')\n",
    "c = Filho('Olá', 'Adeus')\n",
    "print('Método 1 do Pai: ', p.metodo1()) \n",
    "print('Método 2 do Pai: ', p.metodo2())\n",
    "print('Método 1 do Filho: ', c.metodo1()) \n",
    "print('Método 2 do Filho: ', c.metodo2()) \n",
    "print('Método 3 do Filho: ', c.metodo3())"
   ]
  },
  {
   "cell_type": "markdown",
   "metadata": {},
   "source": [
    "- Exemplo 1: crie uma classe Pets que contém instâncias de cães; essa classe é completamente separada da classe Dog"
   ]
  },
  {
   "cell_type": "code",
   "execution_count": 3,
   "metadata": {},
   "outputs": [
    {
     "name": "stdout",
     "output_type": "stream",
     "text": [
      "Eu tenho 3 cachorros.\n",
      "Tom tem 6.\n",
      "Eles são todos mamifero.\n",
      "Fletcher tem 7.\n",
      "Eles são todos mamifero.\n",
      "Larry tem 9.\n",
      "Eles são todos mamifero.\n"
     ]
    }
   ],
   "source": [
    "class Pets: \n",
    "    dogs = []\n",
    "    def __init__(self, dogs): \n",
    "        self.dogs = dogs\n",
    "\n",
    "class Dog:\n",
    "    species = 'mamifero'\n",
    "    def __init__(self, name, age): \n",
    "        self.name = name\n",
    "        self.age = age\n",
    "    def description(self): \n",
    "        return self.name, self.age\n",
    "    def speak(self, sound):\n",
    "        return \"%s fala %s\" % (self.name, sound)\n",
    "    def eat(self): \n",
    "        self.is_hungry = False\n",
    "\n",
    "class RussellTerrier(Dog): \n",
    "    def run(self, speed):\n",
    "        return \"%s rucorrens %s\" % (self.name, speed)\n",
    "\n",
    "class Bulldog(Dog): \n",
    "    def run(self, speed):\n",
    "        return \"%s corre %s\" % (self.name, speed)\n",
    "\n",
    "# Cria uma instância de Dogs \n",
    "my_dogs = [\n",
    "    Bulldog(\"Tom\", 6),\n",
    "    RussellTerrier(\"Fletcher\", 7), \n",
    "    Dog(\"Larry\", 9)\n",
    "]\n",
    "# Inicializa a Classe Pets \n",
    "my_pets = Pets(my_dogs)\n",
    "# Saída\n",
    "print(\"Eu tenho {} cachorros.\".format(len(my_pets.dogs))) \n",
    "for dog in my_pets.dogs:\n",
    "    print(\"{} tem {}.\".format(dog.name, dog.age)) \n",
    "    print(\"Eles são todos {}.\".format(dog.species))"
   ]
  },
  {
   "cell_type": "markdown",
   "metadata": {},
   "source": [
    "# CONEXÃO COM BANCO DE DADOS\n",
    "- Instalação: apt-getinstallpostgresql.\n",
    "- Reiniciando o Servió: service postgresql restart\n",
    "- Trocando o usuario: su postgres\n",
    "- Termila do Postgrid : psql\n",
    "- Criando usuario: createuser --interactive\n",
    "- Alterando senha : \n",
    "- * psql -d sbdia\n",
    "- * ALTER USER sbdia WITH PASSWORD 'sbdia.pw';"
   ]
  },
  {
   "cell_type": "markdown",
   "metadata": {},
   "source": [
    "## CONEXÃO DO PYTHON COM BANCO DE DADOS"
   ]
  },
  {
   "cell_type": "code",
   "execution_count": 6,
   "metadata": {},
   "outputs": [
    {
     "name": "stdout",
     "output_type": "stream",
     "text": [
      "Conectado com Sucesso!\n"
     ]
    },
    {
     "data": {
      "text/plain": [
       "<connection object at 0x7f1667e4b7d0; dsn: 'user=sbdia password=xxx dbname=sbdia host=localhost', closed: 0>"
      ]
     },
     "execution_count": 6,
     "metadata": {},
     "output_type": "execute_result"
    }
   ],
   "source": [
    "import psycopg2 as ps\n",
    "\n",
    "def conecta():\n",
    "    #Define our connection string\n",
    "    conn_string = \"host='localhost' dbname='sbdia' user='sbdia' password='sbdia.pw'\"\n",
    "    try: conn= ps.connect(conn_string) \n",
    "    except ps.OperationalError as e:\n",
    "        raise e \n",
    "    else:\n",
    "        print('Conectado com Sucesso!') \n",
    "    return conn\n",
    "conecta()"
   ]
  },
  {
   "cell_type": "markdown",
   "metadata": {},
   "source": [
    "## Criar Tabela:"
   ]
  },
  {
   "cell_type": "code",
   "execution_count": 19,
   "metadata": {},
   "outputs": [
    {
     "name": "stdout",
     "output_type": "stream",
     "text": [
      "Conectado com Sucesso!\n",
      "Conexão encerrada\n"
     ]
    }
   ],
   "source": [
    "try: \n",
    "    cursor = conecta().cursor()\n",
    "    cursor.execute(\"CREATE TABLE pessoa(id integer primary key, nome varchar(100), endereco varchar(50) );\")\n",
    "except (Exception, psycopg2.Error) as error : \n",
    "    if(conn):\n",
    "        print(\"Falha ao inserir, ocorreu o erro:\", error)\n",
    "finally:\n",
    "    cursor.close()\n",
    "    conn.close() \n",
    "    print(\"Conexão encerrada\")\n",
    "    "
   ]
  },
  {
   "cell_type": "markdown",
   "metadata": {},
   "source": [
    "## INSERINDO REGISTROS PYTHON COM BANCO DE DADOS"
   ]
  },
  {
   "cell_type": "code",
   "execution_count": 21,
   "metadata": {},
   "outputs": [
    {
     "name": "stdout",
     "output_type": "stream",
     "text": [
      "Conectado com Sucesso!\n",
      "Informe o id:1\n",
      "Informe o Nome:Breno\n",
      "Informe o EndereçoRua D\n",
      "1 Registro Inserido com Sucesso\n",
      "Conexão encerrada\n"
     ]
    }
   ],
   "source": [
    "import psycopg2\n",
    "\n",
    "try:\n",
    "    conn = conecta() \n",
    "    cursor = conn.cursor()\n",
    "    sql_insert = \"\"\" INSERT INTO pessoa (id, nome, endereco) VALUES (%s,%s,%s)\"\"\"\n",
    "    id = int(input(\"Informe o id:\"))\n",
    "    nome = input(\"Informe o Nome:\") \n",
    "    endereco = input(\"Informe o Endereço\")\n",
    "    record_to_insert = (id, nome, endereco) \n",
    "    cursor.execute(sql_insert, record_to_insert)\n",
    "    conn.commit()\n",
    "    count = cursor.rowcount\n",
    "    print (count, \"Registro Inserido com Sucesso\")\n",
    "except (Exception, psycopg2.Error) as error : \n",
    "    if(conn):\n",
    "        print(\"Falha ao inserir, ocorreu o erro:\", error)\n",
    "finally:\n",
    "    #encerra a conexão com o servidor if(conn):\n",
    "    cursor.close()\n",
    "    conn.close() \n",
    "    print(\"Conexão encerrada\")"
   ]
  },
  {
   "cell_type": "markdown",
   "metadata": {},
   "source": [
    "## CONSULTANDO REGISTROS PYTHON COM BANCO DE DADOS"
   ]
  },
  {
   "cell_type": "code",
   "execution_count": 23,
   "metadata": {},
   "outputs": [
    {
     "name": "stdout",
     "output_type": "stream",
     "text": [
      "Conectado com Sucesso!\n",
      "Registros Armazenados em Pessoa\n",
      "ID : 1\n",
      "Nome Breno\n",
      "Endereço: Rua D \n",
      "\n",
      "Conexão encerrada\n"
     ]
    }
   ],
   "source": [
    "import psycopg2\n",
    "try: \n",
    "    conn = conecta() \n",
    "    cursor = conn.cursor()\n",
    "    sql = \"select * from pessoa\"\n",
    "    cursor.execute(sql)\n",
    "    #retorna todos os registros em um único objeto \n",
    "    pessoas = cursor.fetchall()\n",
    "    print(\"Registros Armazenados em Pessoa\") \n",
    "    for row in pessoas:\n",
    "        print(\"ID :\", row[0], ) \n",
    "        print(\"Nome\", row[1]) \n",
    "        print(\"Endereço:\", row[2], \"\\n\")\n",
    "except (Exception, psycopg2.Error) as error : \n",
    "    print (\"Erro ao realizar consulta\", error)\n",
    "finally: \n",
    "    if(conn):\n",
    "        cursor.close()\n",
    "        conn.close() \n",
    "        print(\"Conexão encerrada\")"
   ]
  },
  {
   "cell_type": "markdown",
   "metadata": {},
   "source": [
    "# BIBLIOTECAS COMPLEMENTARES"
   ]
  },
  {
   "cell_type": "markdown",
   "metadata": {},
   "source": [
    "## MATH"
   ]
  },
  {
   "cell_type": "code",
   "execution_count": 24,
   "metadata": {},
   "outputs": [
    {
     "name": "stdout",
     "output_type": "stream",
     "text": [
      "22\n",
      "O número fornecido é: -15.1\n",
      "O valor do piso é: -16\n",
      "O valor do teto é: -15\n",
      "O valor absoluto é: 15.1\n",
      "O número fornecido (x) é: 1e-05\n",
      "e ^ x (usando a função exp ()) é: 1.0000050000069649e-05\n",
      "log (fabs (x), base) é: -5.0\n",
      "O ângulo fornecido é: 1.5707963267948966\n",
      "sin (x) é: 1.0\n",
      "cos (x) é: 6.123233995736766e-17\n",
      "tan (x) é: 1.633123935319537e+16\n"
     ]
    }
   ],
   "source": [
    "import math\n",
    "#potência print(math.pow(2, 3))\n",
    "#O método ceil () retorna o valor do teto de x - o menor número inteiro que não é menor que x.\n",
    "data = 21.6\n",
    "print(math.ceil(21.6))\n",
    "#trabalhando com flutuantes\n",
    "numero = -15.1\n",
    "print ('O número fornecido é:', numero)\n",
    "print ('O valor do piso é:', math.floor (numero)) \n",
    "print ('O valor do teto é:', math.ceil (numero)) \n",
    "print ('O valor absoluto é:', math.fabs (numero))\n",
    "numero = 1e-5\n",
    "print ('O número fornecido (x) é:', numero)\n",
    "print ('e ^ x (usando a função exp ()) é:', math.exp (numero) -1) \n",
    "print ('log (fabs (x), base) é:', math.log (math.fabs (numero), 10))\n",
    "#funções trigonométricas\n",
    "angulo = 90\n",
    "radianos = math.radians (angulo)\n",
    "print ('O ângulo fornecido é:', radianos) \n",
    "print ('sin (x) é:', math.sin (radianos)) \n",
    "print ('cos (x) é:', math.cos (radianos)) \n",
    "print ('tan (x) é:', math.tan (radianos))"
   ]
  },
  {
   "cell_type": "markdown",
   "metadata": {},
   "source": [
    "## MATPLOTLIB"
   ]
  },
  {
   "cell_type": "code",
   "execution_count": 28,
   "metadata": {},
   "outputs": [
    {
     "data": {
      "image/png": "[encoded data removed]",
      "text/plain": [
       "<Figure size 864x648 with 1 Axes>"
      ]
     },
     "metadata": {
      "needs_background": "light"
     },
     "output_type": "display_data"
    }
   ],
   "source": [
    "from matplotlib import pyplot \n",
    "%matplotlib inline\n",
    "from matplotlib import rcParams \n",
    "rcParams['figure.figsize']=(12,9) \n",
    "from math import sin, pi\n",
    "x = []\n",
    "y = []\n",
    "for i in range(201):\n",
    "    x_point = 0.01*i \n",
    "    x.append(x_point) \n",
    "    y.append(sin(pi*x_point)**2)\n",
    "pyplot.plot(x, y) \n",
    "pyplot.show()"
   ]
  },
  {
   "cell_type": "markdown",
   "metadata": {},
   "source": [
    "- PLOTANDO A DADOS DE DOIS OBJETOS"
   ]
  },
  {
   "cell_type": "code",
   "execution_count": 31,
   "metadata": {},
   "outputs": [
    {
     "data": {
      "image/png": "[encoded data removed]",
      "text/plain": [
       "<Figure size 864x648 with 1 Axes>"
      ]
     },
     "metadata": {
      "needs_background": "light"
     },
     "output_type": "display_data"
    }
   ],
   "source": [
    "import matplotlib.pyplot as plt \n",
    "import random\n",
    "x = random.sample(range(30), 4) \n",
    "y = random.sample(range(30), 4) \n",
    "plt.plot(x,y)\n",
    "plt.show()"
   ]
  },
  {
   "cell_type": "markdown",
   "metadata": {},
   "source": [
    "- CONFIGURANDO O PLOT"
   ]
  },
  {
   "cell_type": "code",
   "execution_count": 32,
   "metadata": {},
   "outputs": [
    {
     "data": {
      "image/png": "[encoded data removed]",
      "text/plain": [
       "<Figure size 1440x504 with 1 Axes>"
      ]
     },
     "metadata": {
      "needs_background": "light"
     },
     "output_type": "display_data"
    }
   ],
   "source": [
    "plt.figure(figsize=(20,7))\n",
    "plt.plot([1,2,3,4,5], [1,2,3,4,10], 'ro', label='Vermelho') \n",
    "plt.plot([1,2,3,4,5], [2,3,4,5,11], 'b+', label='Azul +') \n",
    "plt.title('Titulo do Gráfico')\n",
    "plt.xlabel('X')\n",
    "plt.ylabel('Y')\n",
    "plt.xlim(0, 6)\n",
    "plt.ylim(0, 12)\n",
    "plt.legend(loc='best')\n",
    "plt.show()"
   ]
  },
  {
   "cell_type": "markdown",
   "metadata": {},
   "source": [
    "-  EXEMPLO DE PLOT EM MACHINE LEARNING"
   ]
  },
  {
   "cell_type": "code",
   "execution_count": 38,
   "metadata": {},
   "outputs": [
    {
     "ename": "AttributeError",
     "evalue": "'Figure' object has no attribute 'scatter'",
     "output_type": "error",
     "traceback": [
      "\u001b[0;31m---------------------------------------------------------------------------\u001b[0m",
      "\u001b[0;31mAttributeError\u001b[0m                            Traceback (most recent call last)",
      "\u001b[0;32m<ipython-input-38-e8f4f767c28d>\u001b[0m in \u001b[0;36m<module>\u001b[0;34m\u001b[0m\n\u001b[1;32m     40\u001b[0m \u001b[0;34m(\u001b[0m\u001b[0max1\u001b[0m\u001b[0;34m,\u001b[0m \u001b[0max2\u001b[0m\u001b[0;34m)\u001b[0m \u001b[0;34m=\u001b[0m \u001b[0mplt\u001b[0m\u001b[0;34m.\u001b[0m\u001b[0msubplots\u001b[0m\u001b[0;34m(\u001b[0m\u001b[0;36m1\u001b[0m\u001b[0;34m,\u001b[0m \u001b[0;36m2\u001b[0m\u001b[0;34m,\u001b[0m \u001b[0msharex\u001b[0m\u001b[0;34m=\u001b[0m\u001b[0;34m'row'\u001b[0m\u001b[0;34m,\u001b[0m \u001b[0msharey\u001b[0m\u001b[0;34m=\u001b[0m\u001b[0;34m'row'\u001b[0m\u001b[0;34m,\u001b[0m \u001b[0mfigsize\u001b[0m\u001b[0;34m=\u001b[0m\u001b[0;34m(\u001b[0m\u001b[0;36m8\u001b[0m\u001b[0;34m,\u001b[0m \u001b[0;36m4\u001b[0m\u001b[0;34m)\u001b[0m\u001b[0;34m)\u001b[0m\u001b[0;34m\u001b[0m\u001b[0;34m\u001b[0m\u001b[0m\n\u001b[1;32m     41\u001b[0m \u001b[0mplt\u001b[0m\u001b[0;34m.\u001b[0m\u001b[0msubplots_adjust\u001b[0m\u001b[0;34m(\u001b[0m\u001b[0mbottom\u001b[0m\u001b[0;34m=\u001b[0m\u001b[0;36m.15\u001b[0m\u001b[0;34m)\u001b[0m\u001b[0;34m\u001b[0m\u001b[0;34m\u001b[0m\u001b[0m\n\u001b[0;32m---> 42\u001b[0;31m \u001b[0mp_c\u001b[0m\u001b[0;34m,\u001b[0m \u001b[0mp_w_c\u001b[0m \u001b[0;34m=\u001b[0m \u001b[0mplot_2d\u001b[0m\u001b[0;34m(\u001b[0m\u001b[0max1\u001b[0m\u001b[0;34m,\u001b[0m \u001b[0mn_labels\u001b[0m\u001b[0;34m=\u001b[0m\u001b[0;36m1\u001b[0m\u001b[0;34m)\u001b[0m\u001b[0;34m\u001b[0m\u001b[0;34m\u001b[0m\u001b[0m\n\u001b[0m\u001b[1;32m     43\u001b[0m \u001b[0max1\u001b[0m\u001b[0;34m.\u001b[0m\u001b[0mset_title\u001b[0m\u001b[0;34m(\u001b[0m\u001b[0;34m'n_categorias=1, tamanho=50'\u001b[0m\u001b[0;34m)\u001b[0m\u001b[0;34m\u001b[0m\u001b[0;34m\u001b[0m\u001b[0m\n\u001b[1;32m     44\u001b[0m \u001b[0max1\u001b[0m\u001b[0;34m.\u001b[0m\u001b[0mset_ylabel\u001b[0m\u001b[0;34m(\u001b[0m\u001b[0;34m'Amostra 1'\u001b[0m\u001b[0;34m)\u001b[0m\u001b[0;34m\u001b[0m\u001b[0;34m\u001b[0m\u001b[0m\n",
      "\u001b[0;32m<ipython-input-38-e8f4f767c28d>\u001b[0m in \u001b[0;36mplot_2d\u001b[0;34m(ax, n_labels, n_classes, length)\u001b[0m\n\u001b[1;32m     23\u001b[0m         \u001b[0mrandom_state\u001b[0m\u001b[0;34m=\u001b[0m\u001b[0mRANDOM_SEED\u001b[0m\u001b[0;34m\u001b[0m\u001b[0;34m\u001b[0m\u001b[0m\n\u001b[1;32m     24\u001b[0m     )\n\u001b[0;32m---> 25\u001b[0;31m     ax.scatter(X[:, 0],\n\u001b[0m\u001b[1;32m     26\u001b[0m                \u001b[0mX\u001b[0m\u001b[0;34m[\u001b[0m\u001b[0;34m:\u001b[0m\u001b[0;34m,\u001b[0m \u001b[0;36m1\u001b[0m\u001b[0;34m]\u001b[0m\u001b[0;34m,\u001b[0m\u001b[0;34m\u001b[0m\u001b[0;34m\u001b[0m\u001b[0m\n\u001b[1;32m     27\u001b[0m                \u001b[0mcolor\u001b[0m\u001b[0;34m=\u001b[0m\u001b[0mCOLORS\u001b[0m\u001b[0;34m.\u001b[0m\u001b[0mtake\u001b[0m\u001b[0;34m(\u001b[0m\u001b[0;34m(\u001b[0m\u001b[0mY\u001b[0m \u001b[0;34m*\u001b[0m \u001b[0;34m[\u001b[0m\u001b[0;36m1\u001b[0m\u001b[0;34m,\u001b[0m \u001b[0;36m2\u001b[0m\u001b[0;34m,\u001b[0m \u001b[0;36m4\u001b[0m\u001b[0;34m]\u001b[0m\u001b[0;34m)\u001b[0m\u001b[0;34m.\u001b[0m\u001b[0msum\u001b[0m\u001b[0;34m(\u001b[0m\u001b[0maxis\u001b[0m\u001b[0;34m=\u001b[0m\u001b[0;36m1\u001b[0m\u001b[0;34m)\u001b[0m\u001b[0;34m)\u001b[0m\u001b[0;34m,\u001b[0m\u001b[0;34m\u001b[0m\u001b[0;34m\u001b[0m\u001b[0m\n",
      "\u001b[0;31mAttributeError\u001b[0m: 'Figure' object has no attribute 'scatter'"
     ]
    },
    {
     "data": {
      "image/png": "[encoded data removed]",
      "text/plain": [
       "<Figure size 576x288 with 2 Axes>"
      ]
     },
     "metadata": {
      "needs_background": "light"
     },
     "output_type": "display_data"
    }
   ],
   "source": [
    "import numpy as np\n",
    "import matplotlib.pyplot as plt\n",
    "from sklearn.datasets import make_multilabel_classification as make_ml_clf\n",
    "COLORS = np.array(['!', \n",
    "                   '#FF3333', # red\n",
    "                   '#0198E1', # blue \n",
    "                   '#BF5FFF', # purple \n",
    "                   '#FCD116', # yellow \n",
    "                   '#FF7216', # orange \n",
    "                   '#4DBD33', # green \n",
    "                   '#87421F' # brown \n",
    "                  ])\n",
    "RANDOM_SEED = np.random.randint(2 ** 10)\n",
    "def plot_2d(ax, n_labels=1, n_classes=3, length=50):\n",
    "    X, Y, p_c, p_w_c = make_ml_clf(\n",
    "        n_samples=150, \n",
    "        n_features=2,\n",
    "        n_classes=n_classes, \n",
    "        n_labels=n_labels, \n",
    "        length=length, \n",
    "        allow_unlabeled=False, \n",
    "        return_distributions=True, \n",
    "        random_state=RANDOM_SEED\n",
    "    )\n",
    "    ax.scatter(X[:, 0],\n",
    "               X[:, 1], \n",
    "               color=COLORS.take((Y * [1, 2, 4]).sum(axis=1)),\n",
    "               marker='.'\n",
    "              )\n",
    "    ax.scatter(p_w_c[0] * length, \n",
    "               p_w_c[1] * length,\n",
    "               marker='*', \n",
    "               linewidth=.5, \n",
    "               edgecolor='black', \n",
    "               s=20 + 1500 * p_c ** 2, \n",
    "               color=COLORS.take([1, 2, 4])\n",
    "              )\n",
    "    ax.set_xlabel('Amostra 0 ') \n",
    "    return p_c, p_w_c \n",
    "\n",
    "(ax1, ax2) = plt.subplots(1, 2, sharex='row', sharey='row', figsize=(8, 4)) \n",
    "plt.subplots_adjust(bottom=.15)\n",
    "p_c, p_w_c = plot_2d(ax1, n_labels=1) \n",
    "ax1.set_title('n_categorias=1, tamanho=50') \n",
    "ax1.set_ylabel('Amostra 1')\n",
    "plot_2d(ax2, n_labels=3) \n",
    "ax2.set_title('n_categorias=3, tamanho=50') \n",
    "ax2.set_xlim(left=0, auto=True)\n",
    "ax2.set_ylim(bottom=0, auto=True)\n",
    "plt.show()\n",
    "print('O dataset gerado contém um total aleatório de %d amostras, divididas nas seguinte maneira:' % RANDOM_SEED)\n",
    "print('Classes', 'P(C)', 'P(w0|C)', 'P(w1|C)', sep='\\t')\n",
    "for k, p, p_w in zip(['vermelho', 'azul', 'amarelo'], p_c, p_w_c.T):\n",
    "    print('%s\\t%0.2f\\t%0.2f\\t%0.2f' % (k, p, p_w[0], p_w[1]))  "
   ]
  },
  {
   "cell_type": "code",
   "execution_count": null,
   "metadata": {},
   "outputs": [],
   "source": []
  }
 ],
 "metadata": {
  "kernelspec": {
   "display_name": "Python 3",
   "language": "python",
   "name": "python3"
  },
  "language_info": {
   "codemirror_mode": {
    "name": "ipython",
    "version": 3
   },
   "file_extension": ".py",
   "mimetype": "text/x-python",
   "name": "python",
   "nbconvert_exporter": "python",
   "pygments_lexer": "ipython3",
   "version": "3.7.9"
  }
 },
 "nbformat": 4,
 "nbformat_minor": 4
}
