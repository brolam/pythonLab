{
 "cells": [
  {
   "cell_type": "code",
   "execution_count": 1,
   "metadata": {},
   "outputs": [
    {
     "name": "stdout",
     "output_type": "stream",
     "text": [
      "Hello Wolrd\n"
     ]
    }
   ],
   "source": [
    "print('Hello Wolrd')"
   ]
  },
  {
   "cell_type": "markdown",
   "metadata": {},
   "source": [
    "# OPERADORES NUMÉRICOS"
   ]
  },
  {
   "cell_type": "code",
   "execution_count": 22,
   "metadata": {},
   "outputs": [
    {
     "name": "stdout",
     "output_type": "stream",
     "text": [
      "20+50 = 70\n",
      "50-20 = 30\n",
      "10*5 = 50\n",
      "50/10 =  5.0\n",
      "Divisão Inteira: 5//3 =  1\n",
      "Resto da divisão: 5%3 2\n",
      "Potência: Base**expoente: 8\n",
      "Raiz quadrada de 4 = 2.0\n"
     ]
    }
   ],
   "source": [
    "print(\"20+50 =\",20+50 )\n",
    "print(\"50-20 =\",50-20 )\n",
    "print(\"10*5 =\",10*5)\n",
    "print(\"50/10 = \",50/10)\n",
    "print(\"Divisão Inteira: 5//3 = \",5//3)\n",
    "print(\"Resto da divisão: 5%3\",5%3)\n",
    "print(\"Potência: Base**expoente:\",2**3)\n",
    "print(\"Raiz quadrada de 4 =\",4**(1/2))"
   ]
  },
  {
   "cell_type": "markdown",
   "metadata": {},
   "source": [
    "# COMENTÁRIOS"
   ]
  },
  {
   "cell_type": "code",
   "execution_count": 23,
   "metadata": {},
   "outputs": [],
   "source": [
    "'''\n",
    "Exemplo de código utilizando três aspas\n",
    "'''\n",
    "x = 10 #Exemplo de comentário de uma linha"
   ]
  },
  {
   "cell_type": "markdown",
   "metadata": {},
   "source": [
    "# VARIÁVEIS NO PYTHON"
   ]
  },
  {
   "cell_type": "code",
   "execution_count": 1,
   "metadata": {},
   "outputs": [
    {
     "name": "stdout",
     "output_type": "stream",
     "text": [
      "17.5\n"
     ]
    }
   ],
   "source": [
    "x = 10 #Inicializando variável do tipo inteiro com valor 10\n",
    "x = 20 #Atribuindo o valor 20\n",
    "x = 17.5 #Atribuindo o valor 17.5\n",
    "print(x) #impressao do valor de X"
   ]
  },
  {
   "cell_type": "code",
   "execution_count": 5,
   "metadata": {},
   "outputs": [
    {
     "name": "stdout",
     "output_type": "stream",
     "text": [
      "<class 'str'>\n",
      "<class 'str'>\n",
      "<class 'bool'>\n",
      "<class 'float'>\n",
      "<class 'float'>\n",
      "<class 'int'>\n"
     ]
    }
   ],
   "source": [
    "nome = 'Joao Francisco'\n",
    "sexo = 'M'\n",
    "escalado = True\n",
    "altura = 1.79\n",
    "peso = 80.0\n",
    "print(type(nome))\n",
    "print(type(sexo))\n",
    "print(type(escalado))\n",
    "print(type(altura))\n",
    "print(type(peso))\n",
    "peso2 = 80\n",
    "print(type(peso2))"
   ]
  },
  {
   "cell_type": "markdown",
   "metadata": {},
   "source": [
    "# OPERADORES DE COMPARAÇÃO"
   ]
  },
  {
   "cell_type": "code",
   "execution_count": 2,
   "metadata": {},
   "outputs": [
    {
     "name": "stdout",
     "output_type": "stream",
     "text": [
      "x > y is False\n",
      "x < y is True\n",
      "x == y is False\n",
      "x != y is True\n",
      "x >= y is False\n",
      "x <= y is True\n",
      "x and y is False\n",
      "x or y is True\n",
      "not x is False\n"
     ]
    }
   ],
   "source": [
    "x = 100\n",
    "y = 120\n",
    "# Saída: x > y is False\n",
    "print('x > y is',x>y)\n",
    "# Saída: x < y is True\n",
    "print('x < y is',x<y)\n",
    "# Saída: x == y is False\n",
    "print('x == y is',x==y)\n",
    "# Saída: x != y is True\n",
    "print('x != y is',x!=y)\n",
    "# Saída: x >= y is False\n",
    "print('x >= y is',x>=y)\n",
    "# Saída: x <= y is True\n",
    "print('x <= y is',x<=y)\n",
    "x = True\n",
    "y = False\n",
    "# Saída: x and y is False\n",
    "print('x and y is',x and y)\n",
    "# Saída: x or y is True\n",
    "print('x or y is',x or y)\n",
    "# Saída: not x is False\n",
    "print('not x is',not x)"
   ]
  },
  {
   "cell_type": "markdown",
   "metadata": {},
   "source": [
    "# RESOLVENDO PROBLEMAS COM PYTHON"
   ]
  },
  {
   "cell_type": "markdown",
   "metadata": {},
   "source": [
    "## Exemplo 1: escrever o resultado das seguintes operações utilizando Python:"
   ]
  },
  {
   "cell_type": "code",
   "execution_count": 5,
   "metadata": {},
   "outputs": [
    {
     "name": "stdout",
     "output_type": "stream",
     "text": [
      "Letra A: 2.5\n",
      "Letra B: 12.5\n",
      "Letra C: 4.5\n",
      "Letra D: 1.5\n",
      "Letra E: 100.0\n"
     ]
    }
   ],
   "source": [
    "\n",
    "#A. (20 - 15)/2\n",
    "#B. 20 - 15/2\n",
    "#C. 2*5/20 + 30/15*2\n",
    "#D. 2*(5/20) + 30/(15*2)\n",
    "#E. 500*20/100\n",
    "print('Letra A:', (20 - 15)/2 )\n",
    "print('Letra B:', 20 - 15/2 )\n",
    "print('Letra C:', 2*5/20 + 30/15*2 )\n",
    "print('Letra D:', 2*(5/20) + 30/(15*2) )\n",
    "print('Letra E:', 500*20/100)"
   ]
  },
  {
   "cell_type": "markdown",
   "metadata": {},
   "source": [
    "## Exemplo 2: receba os valores de RAIO e calcule a área de uma circunferên-cia, considerando a fórmula ÁREA = π * RAIO2"
   ]
  },
  {
   "cell_type": "code",
   "execution_count": 9,
   "metadata": {},
   "outputs": [
    {
     "name": "stdout",
     "output_type": "stream",
     "text": [
      "Area: 78.53999999999999\n"
     ]
    }
   ],
   "source": [
    "pi = 3.1416 #você ainda tem a opção de utilizar o valor exato utilizando a biblioteca math\n",
    "raio = 5\n",
    "area = pi * (raio**2)\n",
    "print('Area:', area )"
   ]
  },
  {
   "cell_type": "markdown",
   "metadata": {},
   "source": [
    "## Exemplo 3: o diretor da escola Rui Filho está preocupado com o aquecimento\n",
    "\n",
    "global e as fortes altas e baixas durante o ano. Por isso instituiu que, ao medir a tem-\n",
    "peratura e humidade relativa, deve-se tomar algumas decisões. Crie um programa\n",
    "\n",
    "Python que considere as decisões abaixo:\n",
    "• Temperatura maior do que 100: aulas canceladas.\n",
    "• Temperatura menor do que -25: aulas canceladas, mas o mundo deve ter acabado.\n",
    "• Temperatura menor do que 0: aulas canceladas.\n",
    "• Temperatura maior ou igual a 92 e umidade maior do que 75: aulas canceladas.\n",
    "• Temperatura maior que 88 e umidade maior ou igual do que 85: aulas canceladas.\n",
    "• Temperatura igual a 75 e umidade menor ou igual do que 65: atividades externas.\n",
    "• Outros casos: aula normal."
   ]
  },
  {
   "cell_type": "code",
   "execution_count": 13,
   "metadata": {},
   "outputs": [
    {
     "name": "stdout",
     "output_type": "stream",
     "text": [
      "Entre com a temperatura:10\n",
      "Entre com a humidade relativa:80\n",
      "Aula normal\n"
     ]
    }
   ],
   "source": [
    "Temperature = int (input('Entre com a temperatura:'))\n",
    "Humidity = int(input('Entre com a humidade relativa:'))\n",
    "if Temperature >= 100:\n",
    "    print('Aulas canceladas')\n",
    "elif Temperature >= 92:\n",
    "    if Humidity > 75:\n",
    "        print('Aulas canceladas')\n",
    "    elif Temperature > 88:\n",
    "        if Humidity >= 85:\n",
    "            print('Aulas canceladas')\n",
    "elif Temperature == 75:\n",
    "    if Humidity <= 65:\n",
    "        print('Atividades Externas')\n",
    "    elif Temperature <= -25:\n",
    "        print ('Aulas canceladas, mas o mundo acabou')\n",
    "elif Temperature < 0:\n",
    "    print('Aulas canceladas')\n",
    "else:\n",
    "    print('Aula normal')"
   ]
  },
  {
   "cell_type": "markdown",
   "metadata": {},
   "source": [
    "## Exemplo 4: crie um programa Python para imprimir a quantidade de números pares de 100 até 200, incluindo-os."
   ]
  },
  {
   "cell_type": "code",
   "execution_count": null,
   "metadata": {},
   "outputs": [],
   "source": [
    "contador = 1\n",
    "while contador <= 2000:\n",
    "    if contador % 2 == 0:\n",
    "        print(contador)\n",
    "        contador = contador + 1"
   ]
  },
  {
   "cell_type": "code",
   "execution_count": null,
   "metadata": {},
   "outputs": [],
   "source": []
  }
 ],
 "metadata": {
  "kernelspec": {
   "display_name": "Python 3",
   "language": "python",
   "name": "python3"
  },
  "language_info": {
   "codemirror_mode": {
    "name": "ipython",
    "version": 3
   },
   "file_extension": ".py",
   "mimetype": "text/x-python",
   "name": "python",
   "nbconvert_exporter": "python",
   "pygments_lexer": "ipython3",
   "version": "3.7.9"
  }
 },
 "nbformat": 4,
 "nbformat_minor": 4
}
