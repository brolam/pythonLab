{
 "cells": [
  {
   "cell_type": "markdown",
   "metadata": {},
   "source": [
    "# TÓPICO 1 – LISTAS"
   ]
  },
  {
   "cell_type": "markdown",
   "metadata": {},
   "source": [
    "## Programação vetorial"
   ]
  },
  {
   "cell_type": "code",
   "execution_count": 4,
   "metadata": {},
   "outputs": [
    {
     "name": "stdout",
     "output_type": "stream",
     "text": [
      "[750 820 230 660 900  90 890 400 700 720 970 670 980  40 400  10 110 260\n",
      " 150 410]\n"
     ]
    }
   ],
   "source": [
    "# Logica convencional \n",
    "import numpy as np\n",
    "x = np.array([75,82,23,66,90,9, 89, 40, 70, 72, 97, 67, 98, 4 ,40, 1, 11, 26, 15, 41])\n",
    "for i in range(0,20):\n",
    "    x[i]=x[i]*10\n",
    "print(x)"
   ]
  },
  {
   "cell_type": "code",
   "execution_count": 5,
   "metadata": {},
   "outputs": [
    {
     "name": "stdout",
     "output_type": "stream",
     "text": [
      "[750 820 230 660 900  90 890 400 700 720 970 670 980  40 400  10 110 260\n",
      " 150 410]\n"
     ]
    }
   ],
   "source": [
    "# Logica Python\n",
    "import numpy as np\n",
    "x = np.array([75,82,23,66,90,9, 89, 40, 70, 72, 97, 67, 98, 4 ,40, 1, 11, 26, 15, 41])\n",
    "x=x*10\n",
    "print(x)"
   ]
  },
  {
   "cell_type": "markdown",
   "metadata": {},
   "source": [
    "## Lista"
   ]
  },
  {
   "cell_type": "code",
   "execution_count": 6,
   "metadata": {},
   "outputs": [
    {
     "name": "stdout",
     "output_type": "stream",
     "text": [
      "Minha lista tem  4 itens\n",
      "O primeiro item a ser comprado é  maçã\n",
      "O segundo item a ser comprado é  banana\n",
      "O terceiro item a ser comprado é  couve\n",
      "O quarto item a ser comprado é  mexirica\n"
     ]
    }
   ],
   "source": [
    "lista_de_compras = ['maçã', 'banana', 'couve', 'mexirica']\n",
    "print ('Minha lista tem ', len(lista_de_compras), 'itens')\n",
    "print ('O primeiro item a ser comprado é ', (lista_de_compras[0]))\n",
    "print ('O segundo item a ser comprado é ', (lista_de_compras[1]))\n",
    "print ('O terceiro item a ser comprado é ', (lista_de_compras[2]))\n",
    "print ('O quarto item a ser comprado é ', (lista_de_compras[3]))"
   ]
  },
  {
   "cell_type": "markdown",
   "metadata": {},
   "source": [
    "## TIPOS DE DADOS DAS LISTAS"
   ]
  },
  {
   "cell_type": "code",
   "execution_count": 7,
   "metadata": {},
   "outputs": [
    {
     "name": "stdout",
     "output_type": "stream",
     "text": [
      "[20, 30, 40, 50, 60]\n",
      "[1.7, 9.9, 25.7, 25.6]\n",
      "[True, False, True, True]\n",
      "['b', 'i', 'g', 'd']\n",
      "['banco de dados', 'sistemas operacionais', 'programação']\n"
     ]
    }
   ],
   "source": [
    "#Exemplo de lista com inteiros\n",
    "lista_inteiros = [20, 30, 40, 50 ,60]\n",
    "print(lista_inteiros)\n",
    "#Exemplo de lista com float\n",
    "lista_float = [1.7, 9.9 , 25.7, 25.6]\n",
    "print(lista_float)\n",
    "#Exemplo de lista com booleanos\n",
    "lista_booleanos = [True, False, True, True]\n",
    "print(lista_booleanos)\n",
    "\n",
    "#Exemplo de lista com chars\n",
    "lista_char = [\"b\",\"i\",\"g\",\"d\"]\n",
    "print(lista_char)\n",
    "\n",
    "#Exemplo de lista com strings\n",
    "lista_strings = [\"banco de dados\",\"sistemas operacionais\",\"programação\"]\n",
    "print(lista_strings)"
   ]
  },
  {
   "cell_type": "markdown",
   "metadata": {},
   "source": [
    "## LISTA DE VÁRIOS TIPOS DE DADOS"
   ]
  },
  {
   "cell_type": "code",
   "execution_count": 8,
   "metadata": {},
   "outputs": [
    {
     "name": "stdout",
     "output_type": "stream",
     "text": [
      "<class 'list'>\n",
      "30\n",
      "<class 'int'>\n",
      "True\n",
      "<class 'bool'>\n",
      "2.4\n",
      "<class 'float'>\n",
      "João\n",
      "<class 'str'>\n",
      "[1, 2, 3, 4]\n",
      "<class 'int'>\n",
      "2\n",
      "<class 'int'>\n"
     ]
    }
   ],
   "source": [
    "#Exemplo de lista com vários tipos de dados\n",
    "lista = [30, True, 2.4, \"João\", [1,2,3,4] ]\n",
    "print(type(lista))\n",
    "#Exemplo de item inteiro\n",
    "print(lista[0])\n",
    "print(type(lista[0]))\n",
    "#Exemplo de item Booleano\n",
    "print(lista[1])\n",
    "print(type(lista[1]))\n",
    "#Exemplo de item float\n",
    "print(lista[2])\n",
    "print(type(lista[2]))\n",
    "#Exemplo de item string\n",
    "print(lista[3])\n",
    "print(type(lista[3]))\n",
    "#Exemplo de item lista\n",
    "print(lista[4])\n",
    "print(type(lista[0]))\n",
    "print(lista[4][1])\n",
    "print(type(lista[4][1]))"
   ]
  },
  {
   "cell_type": "markdown",
   "metadata": {},
   "source": [
    "# MANIPULAÇÃO DE LISTAS"
   ]
  },
  {
   "cell_type": "markdown",
   "metadata": {},
   "source": [
    "## Append"
   ]
  },
  {
   "cell_type": "code",
   "execution_count": 9,
   "metadata": {},
   "outputs": [
    {
     "name": "stdout",
     "output_type": "stream",
     "text": [
      "['egg', 'milk', 'apple', 'bullet', 'bread']\n"
     ]
    }
   ],
   "source": [
    "lista_de_compras = []\n",
    "lista_de_compras.append(\"egg\")\n",
    "lista_de_compras.append(\"milk\")\n",
    "lista_de_compras.append(\"apple\")\n",
    "lista_de_compras.append(\"bullet\")\n",
    "lista_de_compras.append(\"bread\")\n",
    "print(lista_de_compras)"
   ]
  },
  {
   "cell_type": "markdown",
   "metadata": {},
   "source": [
    "## Insert"
   ]
  },
  {
   "cell_type": "code",
   "execution_count": 10,
   "metadata": {},
   "outputs": [
    {
     "name": "stdout",
     "output_type": "stream",
     "text": [
      "['Ari', 'Beto', 'Cláudio', 'Fernando', 'Rodrigo']\n"
     ]
    }
   ],
   "source": [
    "lista_nomes = [\"Ari\", \"Beto\",\"Fernando\",\"Rodrigo\"]\n",
    "lista_nomes.insert(2,\"Cláudio\")\n",
    "print(lista_nomes)"
   ]
  },
  {
   "cell_type": "markdown",
   "metadata": {},
   "source": [
    "## Extended"
   ]
  },
  {
   "cell_type": "code",
   "execution_count": 11,
   "metadata": {},
   "outputs": [
    {
     "name": "stdout",
     "output_type": "stream",
     "text": [
      "['maçã', 'banana', 'couve', 'mexerica']\n",
      "['maçã', 'banana', 'couve', 'mexerica', 'arroz, feijao']\n"
     ]
    }
   ],
   "source": [
    "lista_de_compras = ['maçã', 'banana', 'couve', 'mexerica']\n",
    "lista_extra = [\"arroz, feijao\"]\n",
    "print(lista_de_compras)\n",
    "lista_de_compras.extend(lista_extra)\n",
    "print(lista_de_compras)"
   ]
  },
  {
   "cell_type": "markdown",
   "metadata": {},
   "source": [
    "## Remoção / pop e del"
   ]
  },
  {
   "cell_type": "code",
   "execution_count": 13,
   "metadata": {},
   "outputs": [
    {
     "name": "stdout",
     "output_type": "stream",
     "text": [
      "['maçã', 'banana', 'couve', 'maçã', 'mexerica', 'arroz', 'maçã']\n",
      "['banana', 'couve', 'maçã', 'mexerica', 'arroz', 'maçã']\n",
      "['banana', 'couve', 'maçã', 'arroz', 'maçã']\n",
      "['banana', 'couve', 'arroz', 'maçã']\n",
      "[]\n"
     ]
    }
   ],
   "source": [
    "lista = ['maçã', 'banana', 'couve', 'maçã', 'mexerica', 'arroz','maçã']\n",
    "print(lista)\n",
    "#utilizando remove\n",
    "lista.remove(\"maçã\")\n",
    "print(lista)\n",
    "#utilizando pop\n",
    "lista.pop(3)\n",
    "print(lista)\n",
    "#utilizando del\n",
    "del lista[2]\n",
    "print(lista)\n",
    "#utilizando clear\n",
    "lista.clear()\n",
    "print(lista)"
   ]
  },
  {
   "cell_type": "markdown",
   "metadata": {},
   "source": [
    "## Alteração"
   ]
  },
  {
   "cell_type": "code",
   "execution_count": 14,
   "metadata": {},
   "outputs": [
    {
     "name": "stdout",
     "output_type": "stream",
     "text": [
      "['maçã', 'banana', 'couve', 'maçã', 'mexerica', 'arroz', 'maçã']\n",
      "['maçã novo texto', 'banana', 'couve', 'maçã', 'mexerica', 'arroz', 'maçã']\n",
      "['maçã novo texto', 'banana', 'couve', 'maçã', 'novo valor', 'arroz', 'maçã']\n"
     ]
    }
   ],
   "source": [
    "lista = ['maçã', 'banana', 'couve', 'maçã', 'mexerica', 'arroz','maçã']\n",
    "print(lista)\n",
    "lista[0] = lista[0]+ \" novo texto\"\n",
    "print(lista)\n",
    "lista[4] = \"novo valor\"\n",
    "print(lista)"
   ]
  },
  {
   "cell_type": "markdown",
   "metadata": {},
   "source": [
    "# PERCORRENDO UMA LISTA"
   ]
  },
  {
   "cell_type": "markdown",
   "metadata": {},
   "source": [
    "## Item a item"
   ]
  },
  {
   "cell_type": "code",
   "execution_count": 1,
   "metadata": {},
   "outputs": [
    {
     "name": "stdout",
     "output_type": "stream",
     "text": [
      "maçã\n",
      "banana\n",
      "couve\n",
      "maçã\n",
      "mexerica\n",
      "arroz\n",
      "maçã\n"
     ]
    }
   ],
   "source": [
    "lista = ['maçã', 'banana', 'couve', 'maçã', 'mexerica', 'arroz','maçã']\n",
    "for elemento in lista:\n",
    "    print(elemento)"
   ]
  },
  {
   "cell_type": "markdown",
   "metadata": {},
   "source": [
    "## Chave e Item"
   ]
  },
  {
   "cell_type": "code",
   "execution_count": 2,
   "metadata": {},
   "outputs": [
    {
     "name": "stdout",
     "output_type": "stream",
     "text": [
      "0 maçã\n",
      "1 banana\n",
      "2 couve\n",
      "3 maçã\n",
      "4 mexerica\n",
      "5 arroz\n",
      "6 maçã\n"
     ]
    }
   ],
   "source": [
    "for indice, valor in enumerate(lista):\n",
    "    print (indice, valor)"
   ]
  },
  {
   "cell_type": "markdown",
   "metadata": {},
   "source": [
    "## Lista Reversa"
   ]
  },
  {
   "cell_type": "code",
   "execution_count": 7,
   "metadata": {},
   "outputs": [
    {
     "name": "stdout",
     "output_type": "stream",
     "text": [
      "maçã\n",
      "arroz\n",
      "mexerica\n",
      "maçã\n",
      "couve\n",
      "banana\n",
      "maçã\n"
     ]
    }
   ],
   "source": [
    "lista = ['maçã', 'banana', 'couve', 'maçã', 'mexerica', 'arroz','maçã']\n",
    "\n",
    "for elemento in reversed(lista):\n",
    "    print(elemento)"
   ]
  },
  {
   "cell_type": "markdown",
   "metadata": {},
   "source": [
    "## Lista Ordenada"
   ]
  },
  {
   "cell_type": "code",
   "execution_count": 9,
   "metadata": {},
   "outputs": [
    {
     "name": "stdout",
     "output_type": "stream",
     "text": [
      "arroz\n",
      "banana\n",
      "couve\n",
      "maçã\n",
      "maçã\n",
      "maçã\n",
      "mexerica\n"
     ]
    }
   ],
   "source": [
    "lista = ['maçã', 'banana', 'couve', 'maçã', 'mexerica', 'arroz','maçã']\n",
    "\n",
    "for elemento in sorted(lista):\n",
    "    print(elemento)"
   ]
  },
  {
   "cell_type": "markdown",
   "metadata": {},
   "source": [
    "## Recuperar os valores "
   ]
  },
  {
   "cell_type": "code",
   "execution_count": 11,
   "metadata": {},
   "outputs": [
    {
     "name": "stdout",
     "output_type": "stream",
     "text": [
      "['maçã']\n",
      "['maçã', 'banana']\n",
      "['maçã', 'banana', 'couve']\n",
      "['couve', 'mexerica']\n",
      "['maçã', 'banana', 'couve', 'mexerica', 'arroz', 'feijão']\n"
     ]
    }
   ],
   "source": [
    "lista = ['maçã', 'banana', 'couve', 'mexerica', 'arroz','feijão']\n",
    "print(lista[0:1])\n",
    "print(lista[0:2])\n",
    "print(lista[0:3])\n",
    "print(lista[2:4])\n",
    "print(lista[0:len(lista)])"
   ]
  },
  {
   "cell_type": "markdown",
   "metadata": {},
   "source": [
    "# MANIPULANDO ARQUIVO DE TEXTO"
   ]
  },
  {
   "cell_type": "code",
   "execution_count": 21,
   "metadata": {},
   "outputs": [
    {
     "name": "stdout",
     "output_type": "stream",
     "text": [
      "Now the file has more content!\n"
     ]
    }
   ],
   "source": [
    "import os\n",
    "arquivo = open('texto.txt', 'w')\n",
    "arquivo.write(\"Now the file has more content!\") \n",
    "arquivo.close()\n",
    "#realiza a leitura das linhas \n",
    "arquivo = open('texto.txt', 'r')\n",
    "print(arquivo.readline())\n",
    "arquivo.close()\n",
    "#criamos uma nova instância do arquivo com permissões de escrita \n",
    "arquivo2 = open('texto.txt', 'w')\n",
    "#retorna os 3 primeiro caracteres do arquivo \n",
    "arquivo2.write(\"Now the file has more content!\") \n",
    "arquivo2.close()\n",
    "#criando um novo arquivo\n",
    "os.remove(\"texto.txt\")\n",
    "arquivo3 = open(\"texto.txt\", \"x\")\n",
    "#removendo um arquivo  \n",
    "os.remove(\"texto.txt\")"
   ]
  },
  {
   "cell_type": "markdown",
   "metadata": {},
   "source": [
    "# RESOLVENDO PROBLEMAS COM LISTAS"
   ]
  },
  {
   "cell_type": "code",
   "execution_count": 42,
   "metadata": {},
   "outputs": [
    {
     "name": "stdout",
     "output_type": "stream",
     "text": [
      "maçã\n",
      "\n",
      "banana\n",
      "\n",
      "couve\n",
      "\n",
      "mexerica\n",
      "\n",
      "arroz\n",
      "\n",
      "feijão\n",
      "\n"
     ]
    }
   ],
   "source": [
    "#Mode    Description\n",
    "#'r' This is the default mode. It Opens file for reading.\n",
    "#'w' This Mode Opens file for writing. \n",
    "#If file does not exist, it creates a new file.\n",
    "#If file exists it truncates the file.\n",
    "#'x' Creates a new file. If file already exists, the operation fails.\n",
    "#'a' Open file in append mode. \n",
    "#If file does not exist, it creates a new file.\n",
    "#'t' This is the default mode. It opens in text mode.\n",
    "#'b' This opens in binary mode.\n",
    "#'+' This will open a file for reading and writing (updating)\n",
    "import os\n",
    "lista = ['maçã', 'banana', 'couve', 'mexerica', 'arroz','feijão']\n",
    "with open('texto.txt', 'a') as f:\n",
    "    for item in lista:\n",
    "        f.write(item + '\\r')\n",
    "\n",
    "with open('texto.txt', 'r') as f:\n",
    "    for item in f:\n",
    "        print(item)\n",
    "        \n",
    "os.remove(\"texto.txt\")"
   ]
  },
  {
   "cell_type": "markdown",
   "metadata": {},
   "source": [
    "# CONJUNTOS – UM TIPO DE DADOS SIMILAR ÀS LISTAS"
   ]
  },
  {
   "cell_type": "code",
   "execution_count": 44,
   "metadata": {},
   "outputs": [
    {
     "name": "stdout",
     "output_type": "stream",
     "text": [
      "{'w', 'y', 't', 'q', 'r', 'e'}\n"
     ]
    }
   ],
   "source": [
    "A = {1, 2, 3}\n",
    "A = set('qwerty') \n",
    "print(A)"
   ]
  },
  {
   "cell_type": "markdown",
   "metadata": {},
   "source": [
    "## Igualdade de conjuto"
   ]
  },
  {
   "cell_type": "code",
   "execution_count": 46,
   "metadata": {},
   "outputs": [
    {
     "name": "stdout",
     "output_type": "stream",
     "text": [
      "True\n"
     ]
    }
   ],
   "source": [
    "A = {1, 2, 3}\n",
    "B = {3, 2, 3, 1} \n",
    "print(A == B)"
   ]
  },
  {
   "cell_type": "markdown",
   "metadata": {},
   "source": [
    "## Se um elemento pertence a um conjunto"
   ]
  },
  {
   "cell_type": "code",
   "execution_count": 47,
   "metadata": {},
   "outputs": [
    {
     "name": "stdout",
     "output_type": "stream",
     "text": [
      "True True\n",
      "{1, 2, 3, 4}\n"
     ]
    }
   ],
   "source": [
    "A = {1, 2, 3}\n",
    "print(1 in A, 4 not in A) \n",
    "A.add(4)\n",
    "print(A)"
   ]
  },
  {
   "cell_type": "markdown",
   "metadata": {},
   "source": [
    "## União dos conjuntos A e B"
   ]
  },
  {
   "cell_type": "code",
   "execution_count": 52,
   "metadata": {},
   "outputs": [
    {
     "name": "stdout",
     "output_type": "stream",
     "text": [
      "{1, 2, 3, 10}\n",
      "{1, 2, 3, 10}\n"
     ]
    }
   ],
   "source": [
    "A = {1, 2, 3}\n",
    "B = {3, 2, 3, 1, 10} \n",
    "print( A|B )\n",
    "print(A.union(B))"
   ]
  },
  {
   "cell_type": "markdown",
   "metadata": {},
   "source": [
    "## Adiciona todos os elementos da matriz B ao conjunto A"
   ]
  },
  {
   "cell_type": "code",
   "execution_count": 57,
   "metadata": {},
   "outputs": [
    {
     "name": "stdout",
     "output_type": "stream",
     "text": [
      "{1, 2, 3, 10}\n"
     ]
    }
   ],
   "source": [
    "A = {1, 2, 3}\n",
    "B = {3, 2, 3, 1, 10} \n",
    "A.update(B)\n",
    "print(A)"
   ]
  },
  {
   "cell_type": "markdown",
   "metadata": {},
   "source": [
    "## Interseção"
   ]
  },
  {
   "cell_type": "code",
   "execution_count": 58,
   "metadata": {},
   "outputs": [
    {
     "name": "stdout",
     "output_type": "stream",
     "text": [
      "{1, 2, 3}\n"
     ]
    }
   ],
   "source": [
    "A = {1, 2, 3}\n",
    "B = {3, 2, 3, 1, 10} \n",
    "print(A.intersection (B))"
   ]
  },
  {
   "cell_type": "markdown",
   "metadata": {},
   "source": [
    "## Deixa no conjunto A apenas os itens que pertencem ao conjunto B"
   ]
  },
  {
   "cell_type": "code",
   "execution_count": 60,
   "metadata": {},
   "outputs": [
    {
     "name": "stdout",
     "output_type": "stream",
     "text": [
      "{1, 2, 3}\n"
     ]
    }
   ],
   "source": [
    "A = {1, 2, 3}\n",
    "B = {3, 2, 3, 1, 10} \n",
    "A.intersection_update(B)\n",
    "print(A)"
   ]
  },
  {
   "cell_type": "markdown",
   "metadata": {},
   "source": [
    "## Diferença definida de A e B"
   ]
  },
  {
   "cell_type": "code",
   "execution_count": 62,
   "metadata": {},
   "outputs": [
    {
     "name": "stdout",
     "output_type": "stream",
     "text": [
      "set()\n"
     ]
    }
   ],
   "source": [
    "A = {1, 2, 3}\n",
    "B = {3, 2, 3, 1, 10}\n",
    "print( A-B )"
   ]
  },
  {
   "cell_type": "markdown",
   "metadata": {},
   "source": [
    "## Remove todos os elementos de B a partir do conjunto A ."
   ]
  },
  {
   "cell_type": "code",
   "execution_count": 64,
   "metadata": {},
   "outputs": [
    {
     "name": "stdout",
     "output_type": "stream",
     "text": [
      "set()\n"
     ]
    }
   ],
   "source": [
    "A = {1, 2, 3}\n",
    "B = {3, 2, 3, 1, 10}\n",
    "A.difference_update (B)\n",
    "print(A)"
   ]
  },
  {
   "cell_type": "markdown",
   "metadata": {},
   "source": [
    "## Retorna a diferença simétrica dos conjuntos A e B (os elementos pertencentes a A ou B , mas não a ambos os conjuntos simultaneamente)."
   ]
  },
  {
   "cell_type": "code",
   "execution_count": 66,
   "metadata": {},
   "outputs": [
    {
     "name": "stdout",
     "output_type": "stream",
     "text": [
      "{10}\n"
     ]
    }
   ],
   "source": [
    "A = {1, 2, 3}\n",
    "B = {3, 2, 3, 1, 10}\n",
    "print( A^B )"
   ]
  },
  {
   "cell_type": "markdown",
   "metadata": {},
   "source": [
    "## Retorna true se A é um subconjunto de B"
   ]
  },
  {
   "cell_type": "code",
   "execution_count": 69,
   "metadata": {},
   "outputs": [
    {
     "name": "stdout",
     "output_type": "stream",
     "text": [
      "True\n"
     ]
    }
   ],
   "source": [
    "A = {1, 2, 3}\n",
    "B = {3, 2, 3, 1, 10}\n",
    "print(A <= B )"
   ]
  },
  {
   "cell_type": "markdown",
   "metadata": {},
   "source": [
    "## Retorna true se B é um subconjunto de A"
   ]
  },
  {
   "cell_type": "code",
   "execution_count": 71,
   "metadata": {},
   "outputs": [
    {
     "name": "stdout",
     "output_type": "stream",
     "text": [
      "False\n"
     ]
    }
   ],
   "source": [
    "A = {1, 2, 3}\n",
    "B = {3, 2, 3, 1, 10}\n",
    "print( A.issuperset(B))"
   ]
  },
  {
   "cell_type": "markdown",
   "metadata": {},
   "source": [
    "## Equivalente a A <= B and A != B"
   ]
  },
  {
   "cell_type": "code",
   "execution_count": 72,
   "metadata": {},
   "outputs": [
    {
     "data": {
      "text/plain": [
       "True"
      ]
     },
     "execution_count": 72,
     "metadata": {},
     "output_type": "execute_result"
    }
   ],
   "source": [
    "A = {1, 2, 3}\n",
    "B = {3, 2, 3, 1, 10}\n",
    "A < B"
   ]
  },
  {
   "cell_type": "markdown",
   "metadata": {},
   "source": [
    "## Equivalente a A >= B and A != B"
   ]
  },
  {
   "cell_type": "code",
   "execution_count": 73,
   "metadata": {},
   "outputs": [
    {
     "data": {
      "text/plain": [
       "False"
      ]
     },
     "execution_count": 73,
     "metadata": {},
     "output_type": "execute_result"
    }
   ],
   "source": [
    "A = {1, 2, 3}\n",
    "B = {3, 2, 3, 1, 10}\n",
    "A > B"
   ]
  },
  {
   "cell_type": "markdown",
   "metadata": {},
   "source": [
    "# NUMPY"
   ]
  },
  {
   "cell_type": "markdown",
   "metadata": {},
   "source": [
    "## Versão"
   ]
  },
  {
   "cell_type": "code",
   "execution_count": 2,
   "metadata": {},
   "outputs": [
    {
     "name": "stdout",
     "output_type": "stream",
     "text": [
      "1.19.4\n"
     ]
    }
   ],
   "source": [
    "import numpy\n",
    "print (numpy.__version__)"
   ]
  },
  {
   "cell_type": "markdown",
   "metadata": {},
   "source": [
    "## Criar um array pelo NumPy"
   ]
  },
  {
   "cell_type": "code",
   "execution_count": 3,
   "metadata": {},
   "outputs": [
    {
     "name": "stdout",
     "output_type": "stream",
     "text": [
      "Conteúdo de x: [1 2 3 4 5 6]\n",
      "Tipo de dados de x: <class 'numpy.ndarray'>\n"
     ]
    }
   ],
   "source": [
    "import numpy as np\n",
    "x = np.array([1, 2 ,3,4, 5, 6 ])\n",
    "print(\"Conteúdo de x:\", x) \n",
    "print(\"Tipo de dados de x:\", type(x))"
   ]
  },
  {
   "cell_type": "markdown",
   "metadata": {},
   "source": [
    "## COM VÁRIOS TIPOS DE DADOS"
   ]
  },
  {
   "cell_type": "code",
   "execution_count": 4,
   "metadata": {},
   "outputs": [
    {
     "name": "stdout",
     "output_type": "stream",
     "text": [
      "Conteúdo de x: ['1' 'batman' '3.5' '4' '5' 'False']\n",
      "Tipo de dados de x: <class 'numpy.ndarray'>\n"
     ]
    }
   ],
   "source": [
    "import numpy as np\n",
    "x = np.array([1, \"batman\" ,3.5,4, 5, False ])\n",
    "print(\"Conteúdo de x:\", x)\n",
    "print(\"Tipo de dados de x:\", type(x))"
   ]
  },
  {
   "cell_type": "markdown",
   "metadata": {},
   "source": [
    "## CRIANDO UM ARRAY BIDIMENSIONA"
   ]
  },
  {
   "cell_type": "code",
   "execution_count": 5,
   "metadata": {},
   "outputs": [
    {
     "name": "stdout",
     "output_type": "stream",
     "text": [
      "[['João' '25' 'True']\n",
      " ['Fernando' '10' 'False']\n",
      " ['Marcel' '17' 'True']]\n"
     ]
    }
   ],
   "source": [
    "import numpy as np\n",
    "a = np.array([[\"João\",25, True ], [\"Fernando\", 10, False], [\"Marcel\", 17, True]]) \n",
    "print(a)"
   ]
  },
  {
   "cell_type": "markdown",
   "metadata": {},
   "source": [
    "## Lendo o Array mult-dimencional"
   ]
  },
  {
   "cell_type": "code",
   "execution_count": 6,
   "metadata": {},
   "outputs": [
    {
     "name": "stdout",
     "output_type": "stream",
     "text": [
      "['João' '25' 'True']\n",
      "João\n",
      "25\n",
      "True\n",
      "['Fernando' '10' 'False']\n",
      "Fernando\n",
      "10\n",
      "False\n",
      "['Marcel' '17' 'True']\n",
      "Marcel\n",
      "17\n",
      "True\n"
     ]
    }
   ],
   "source": [
    "import numpy as np\n",
    "a = np.array([[\"João\",25, True ], [\"Fernando\", 10, False], [\"Marcel\", 17, True]])\n",
    "for linha in a:\n",
    "    print(linha)\n",
    "    for coluna in linha:\n",
    "        print(coluna)"
   ]
  },
  {
   "cell_type": "markdown",
   "metadata": {},
   "source": [
    "## Zeros: permite construir arrays contendo apenas valores 0."
   ]
  },
  {
   "cell_type": "code",
   "execution_count": 7,
   "metadata": {},
   "outputs": [
    {
     "name": "stdout",
     "output_type": "stream",
     "text": [
      "[0. 0. 0. 0. 0. 0. 0. 0. 0. 0.]\n",
      "[[0. 0. 0. 0.]\n",
      " [0. 0. 0. 0.]]\n",
      "[[0. 0. 0. 0. 0. 0. 0. 0. 0. 0.]\n",
      " [0. 0. 0. 0. 0. 0. 0. 0. 0. 0.]\n",
      " [0. 0. 0. 0. 0. 0. 0. 0. 0. 0.]\n",
      " [0. 0. 0. 0. 0. 0. 0. 0. 0. 0.]\n",
      " [0. 0. 0. 0. 0. 0. 0. 0. 0. 0.]\n",
      " [0. 0. 0. 0. 0. 0. 0. 0. 0. 0.]\n",
      " [0. 0. 0. 0. 0. 0. 0. 0. 0. 0.]\n",
      " [0. 0. 0. 0. 0. 0. 0. 0. 0. 0.]\n",
      " [0. 0. 0. 0. 0. 0. 0. 0. 0. 0.]\n",
      " [0. 0. 0. 0. 0. 0. 0. 0. 0. 0.]]\n"
     ]
    }
   ],
   "source": [
    "#array unidimencional \n",
    "a = np.zeros(10) \n",
    "print(a)\n",
    "#array bidimencional \n",
    "a = np.zeros([2,4]) \n",
    "print(a)\n",
    "#array bidimencional \n",
    "a = np.zeros([10,10]) \n",
    "print(a)"
   ]
  },
  {
   "cell_type": "markdown",
   "metadata": {},
   "source": [
    "## Zeros: permite construir arrays contendo apenas valores 1."
   ]
  },
  {
   "cell_type": "code",
   "execution_count": 8,
   "metadata": {},
   "outputs": [
    {
     "name": "stdout",
     "output_type": "stream",
     "text": [
      "[1. 1. 1. 1. 1. 1. 1. 1. 1. 1.]\n",
      "[[1. 1. 1. 1.]\n",
      " [1. 1. 1. 1.]]\n",
      "[[1. 1. 1. 1. 1. 1. 1. 1. 1. 1.]\n",
      " [1. 1. 1. 1. 1. 1. 1. 1. 1. 1.]\n",
      " [1. 1. 1. 1. 1. 1. 1. 1. 1. 1.]\n",
      " [1. 1. 1. 1. 1. 1. 1. 1. 1. 1.]\n",
      " [1. 1. 1. 1. 1. 1. 1. 1. 1. 1.]\n",
      " [1. 1. 1. 1. 1. 1. 1. 1. 1. 1.]\n",
      " [1. 1. 1. 1. 1. 1. 1. 1. 1. 1.]\n",
      " [1. 1. 1. 1. 1. 1. 1. 1. 1. 1.]\n",
      " [1. 1. 1. 1. 1. 1. 1. 1. 1. 1.]\n",
      " [1. 1. 1. 1. 1. 1. 1. 1. 1. 1.]]\n"
     ]
    }
   ],
   "source": [
    "#array unidimencional \n",
    "a = np.ones(10) \n",
    "print(a)\n",
    "#array bidimencional \n",
    "a = np.ones([2,4]) \n",
    "print(a)\n",
    "#array bidimencional \n",
    "a = np.ones([10,10]) \n",
    "print(a)"
   ]
  },
  {
   "cell_type": "markdown",
   "metadata": {},
   "source": [
    "# OPERAÇÕES COM ARRAYS MULTIDIMENSIONAIS"
   ]
  },
  {
   "cell_type": "markdown",
   "metadata": {},
   "source": [
    "## Transpose: em matemática, matriz transposta é a matriz que se obtém da troca de linhas por colunas"
   ]
  },
  {
   "cell_type": "code",
   "execution_count": 11,
   "metadata": {},
   "outputs": [
    {
     "name": "stdout",
     "output_type": "stream",
     "text": [
      "[[1 2 3]\n",
      " [4 5 6]]\n",
      "[[1 4]\n",
      " [2 5]\n",
      " [3 6]]\n"
     ]
    }
   ],
   "source": [
    "a = np . array ([[1, 2, 3],[4, 5, 6]]) \n",
    "#array original\n",
    "print(a)\n",
    "#array transposto\n",
    "print(a.T)"
   ]
  },
  {
   "cell_type": "markdown",
   "metadata": {},
   "source": [
    "## Shape: o shape retorna o tamanho de um array. Especificamente, retorna o tamanho de suas dimensões."
   ]
  },
  {
   "cell_type": "code",
   "execution_count": 12,
   "metadata": {},
   "outputs": [
    {
     "name": "stdout",
     "output_type": "stream",
     "text": [
      "[[1 2 3]\n",
      " [4 5 6]]\n",
      "(2, 3)\n"
     ]
    }
   ],
   "source": [
    "a = np . array ([[ 1 , 2 , 3],[4 ,5,6 ]]) \n",
    "#array original\n",
    "print(a)\n",
    "#tamanho das dimensões \n",
    "print(a.shape)"
   ]
  },
  {
   "cell_type": "markdown",
   "metadata": {},
   "source": [
    "## Sum: em arrays que armazenam numéricos, retorna a soma de todos os va- lores."
   ]
  },
  {
   "cell_type": "code",
   "execution_count": 13,
   "metadata": {},
   "outputs": [
    {
     "name": "stdout",
     "output_type": "stream",
     "text": [
      "[[1 2 3]\n",
      " [4 5 6]]\n",
      "21\n"
     ]
    }
   ],
   "source": [
    "a = np . array ([[ 1 , 2 , 3],[4 ,5,6 ]]) \n",
    "#array original\n",
    "print(a)\n",
    "#soma dos valores\n",
    "print(a.sum())"
   ]
  },
  {
   "cell_type": "markdown",
   "metadata": {},
   "source": [
    "## Max: em arrays que armazenam numéricos, retorna o maior valor arma- zenado."
   ]
  },
  {
   "cell_type": "code",
   "execution_count": 14,
   "metadata": {},
   "outputs": [
    {
     "name": "stdout",
     "output_type": "stream",
     "text": [
      "[[1 2 3]\n",
      " [4 5 6]]\n",
      "6\n"
     ]
    }
   ],
   "source": [
    "a = np . array ([[ 1 , 2 , 3],[4 ,5,6 ]]) \n",
    "#array original\n",
    "print(a)\n",
    "#soma dos valores\n",
    "print(a.max())"
   ]
  },
  {
   "cell_type": "markdown",
   "metadata": {},
   "source": [
    "## Eye: conhecido como matriz identidade na álgebra linear, com este co- mando é possível criar um array com 1 na diagonal e horizontal."
   ]
  },
  {
   "cell_type": "code",
   "execution_count": 15,
   "metadata": {},
   "outputs": [
    {
     "data": {
      "text/plain": [
       "array([[1., 0., 0., 0., 0.],\n",
       "       [0., 1., 0., 0., 0.],\n",
       "       [0., 0., 1., 0., 0.],\n",
       "       [0., 0., 0., 1., 0.],\n",
       "       [0., 0., 0., 0., 1.]])"
      ]
     },
     "execution_count": 15,
     "metadata": {},
     "output_type": "execute_result"
    }
   ],
   "source": [
    "np.eye(5)"
   ]
  },
  {
   "cell_type": "markdown",
   "metadata": {},
   "source": [
    "## Random: ao receber as dimensões do array, irá criar um array com valores aleatórios em escala 1. Para aumentar a escala basta multiplicar por um valor maior."
   ]
  },
  {
   "cell_type": "code",
   "execution_count": 16,
   "metadata": {},
   "outputs": [
    {
     "data": {
      "text/plain": [
       "array([[66.53182304, 53.96848769, 12.49283712, 78.10625514],\n",
       "       [28.6983112 ,  9.73294029, 60.234545  , 38.87206059],\n",
       "       [17.68414166, 55.46652555, 69.36483553, 85.3197712 ],\n",
       "       [73.16133401, 64.10961203, 97.98270657, 67.77798249],\n",
       "       [64.53701353, 95.50194076,  1.31925718, 94.03927857]])"
      ]
     },
     "execution_count": 16,
     "metadata": {},
     "output_type": "execute_result"
    }
   ],
   "source": [
    "np.random.rand(5, 4)*100"
   ]
  },
  {
   "cell_type": "markdown",
   "metadata": {},
   "source": [
    "## Arange: similar ao comando range visto anteriormente, cria um array em um intervalo de valores."
   ]
  },
  {
   "cell_type": "code",
   "execution_count": 17,
   "metadata": {},
   "outputs": [
    {
     "data": {
      "text/plain": [
       "array([1, 2, 3, 4, 5, 6, 7, 8, 9])"
      ]
     },
     "execution_count": 17,
     "metadata": {},
     "output_type": "execute_result"
    }
   ],
   "source": [
    "np.arange(1, 10)"
   ]
  },
  {
   "cell_type": "markdown",
   "metadata": {},
   "source": [
    "## AJUSTANDO O TAMANHO DE UM ARRAY"
   ]
  },
  {
   "cell_type": "code",
   "execution_count": 18,
   "metadata": {},
   "outputs": [
    {
     "name": "stdout",
     "output_type": "stream",
     "text": [
      "[1 2 3 4 5 6 7 8 9]\n",
      "[[1 2 3]\n",
      " [4 5 6]\n",
      " [7 8 9]]\n"
     ]
    },
    {
     "data": {
      "text/plain": [
       "array([[1, 2, 3]])"
      ]
     },
     "execution_count": 18,
     "metadata": {},
     "output_type": "execute_result"
    }
   ],
   "source": [
    "#criando array\n",
    "a = np.arange(1, 10) \n",
    "print(a)\n",
    "#ajustando os irems em nova dimensão \n",
    "ar = a.reshape((3, 3))\n",
    "print(ar)\n",
    "#criando array\n",
    "x = np.array([1, 2, 3])\n",
    "#ajustando os irems em nova dimensão \n",
    "x.reshape((1, 3))"
   ]
  },
  {
   "cell_type": "markdown",
   "metadata": {},
   "source": [
    "## NumPy segue a da lista padrão do Python; para acessar uma fatia de uma matriz x, use o seguinte: x [start: stop: step].\n",
    "### Se algum deles não for especificado, eles serão padronizados com os valores start = 0, stop = tamanho da dimensão, step = 1."
   ]
  },
  {
   "cell_type": "code",
   "execution_count": 19,
   "metadata": {},
   "outputs": [
    {
     "name": "stdout",
     "output_type": "stream",
     "text": [
      "[0 1 2 3 4 5 6 7 8 9]\n",
      "[0 1 2 3 4]\n",
      "[5 6 7 8 9]\n",
      "[4 5 6]\n",
      "[0 2 4 6 8]\n",
      "[1 3 5 7 9]\n",
      "[9 8 7 6 5 4 3 2 1 0]\n"
     ]
    }
   ],
   "source": [
    "#cria um array com elementos de 0 até 9 \n",
    "x = np.arange(10)\n",
    "print(x)\n",
    "# mostra os 5 primeiros elementos \n",
    "print(x[:5])\n",
    "#mostra os 5 elementos depois de 5 \n",
    "print(x[5:])\n",
    "# mostra todos elementos entre 4 e 7, incluindo 4, excluindo 7 \n",
    "print(x[4:7] )\n",
    "# seguindo a sintaxe, considera apenas o intervalo 2 \n",
    "print(x[::2])\n",
    "# inicializa em 1, e navega com intervalo 2 \n",
    "print(x[1::2])\n",
    "# mosstra todos os elementos em ordem inversa \n",
    "print(x[::-1])"
   ]
  },
  {
   "cell_type": "markdown",
   "metadata": {},
   "source": [
    "### MULTIDIMENSIONAL"
   ]
  },
  {
   "cell_type": "code",
   "execution_count": 21,
   "metadata": {},
   "outputs": [
    {
     "name": "stdout",
     "output_type": "stream",
     "text": [
      "[[6 5 0 0]\n",
      " [6 0 5 1]\n",
      " [5 6 9 0]]\n",
      "[[6 5 0]\n",
      " [6 0 5]]\n",
      "[[6 0]\n",
      " [6 5]\n",
      " [5 9]]\n",
      "[6 6 5]\n",
      "[6 5 0 0]\n",
      "[6 5 0 0]\n"
     ]
    }
   ],
   "source": [
    "#cria um array com valores randomicos 3X4 \n",
    "a = np.random.randint(10, size=(3, 4)) \n",
    "print(a)\n",
    "# mostra o conteúdo em duas linhas e três colunas \n",
    "print(a[:2, :3])\n",
    "# utiliza apenas os passos 2 \n",
    "print(a[:3, ::2])\n",
    "#exibe toda a primeira coluna(0) \n",
    "print(a[:, 0])\n",
    "#exibe toda a primeira linha (0) \n",
    "print(a[0, :])\n",
    "#exibe toda a primeira linha (0) de uma outra maneira \n",
    "print(a[0])"
   ]
  },
  {
   "cell_type": "markdown",
   "metadata": {},
   "source": [
    "## NumPy ele tem suas próprias funções para salvar e recuperar arquivos."
   ]
  },
  {
   "cell_type": "markdown",
   "metadata": {},
   "source": [
    "a = np.array([1,2,3,4,5,6]) \n",
    "np.save(\"a.dat\",a)\n",
    "b =np.load(\"a.dat\") \n",
    "print(b)\n",
    "import os\n",
    "os.remove(\"a.dat\")"
   ]
  },
  {
   "cell_type": "markdown",
   "metadata": {},
   "source": [
    "## OPERAÇÕES ALGÉBRICAS COM ARRAY"
   ]
  },
  {
   "cell_type": "code",
   "execution_count": 27,
   "metadata": {},
   "outputs": [
    {
     "name": "stdout",
     "output_type": "stream",
     "text": [
      "a = [[1 2 3 4]\n",
      " [5 6 7 8]]\n",
      "a + 5 = [[11 12 13 14]\n",
      " [15 16 17 18]]\n",
      "a - 5 = [[-9 -8 -7 -6]\n",
      " [-5 -4 -3 -2]]\n",
      "a * 2 = [[ 2  4  6  8]\n",
      " [10 12 14 16]]\n",
      "a / 2 = [[0.5 1.  1.5 2. ]\n",
      " [2.5 3.  3.5 4. ]]\n",
      "a // 2 = [[0 1 1 2]\n",
      " [2 3 3 4]]\n",
      "-a =  [[-1 -2 -3 -4]\n",
      " [-5 -6 -7 -8]]\n",
      "a ** 2 =  [[ 1  4  9 16]\n",
      " [25 36 49 64]]\n",
      "a % 2 =  [[1 0 1 0]\n",
      " [1 0 1 0]]\n"
     ]
    }
   ],
   "source": [
    "a = np.array([[1,2,3,4],[5,6,7,8]])\n",
    "#array original \n",
    "print(\"a =\", a)\n",
    "#array somando 10 a cada elemento \n",
    "print(\"a + 5 =\", a + 10)\n",
    "#array subtraindo 10 a cada elemento \n",
    "print(\"a - 5 =\", a - 10)\n",
    "#array multiplicando por 2 a cada elemento \n",
    "print(\"a * 2 =\", a * 2)\n",
    "#array dividindo por 2 a cada elemento \n",
    "print(\"a / 2 =\", a / 2)\n",
    "#array fazendo divisão por inteiro 2 a cada elemento \n",
    "print(\"a // 2 =\", a // 2)\n",
    "#array array negativo ou multiplicado por (-1) cada elemento \n",
    "print(\"-a = \", -a)\n",
    "#array a2\n",
    "print(\"a ** 2 = \", a ** 2)\n",
    "#array retornando o resto da divisão por 2 \n",
    "print(\"a % 2 = \", a % 2)"
   ]
  },
  {
   "cell_type": "markdown",
   "metadata": {},
   "source": [
    "## MULTIPLICAÇÃO COM ARRAYS DE DIMENSÕES DIFERENTES"
   ]
  },
  {
   "cell_type": "code",
   "execution_count": 28,
   "metadata": {},
   "outputs": [
    {
     "data": {
      "text/plain": [
       "array([[ 5,  5,  5],\n",
       "       [11, 11, 11],\n",
       "       [17, 17, 17]])"
      ]
     },
     "execution_count": 28,
     "metadata": {},
     "output_type": "execute_result"
    }
   ],
   "source": [
    "a = np.array([[1,2],[3,4],[5,6]]) \n",
    "b = np.array([[1,1,1],[2,2,2]]) \n",
    "a.dot(b)"
   ]
  },
  {
   "cell_type": "markdown",
   "metadata": {},
   "source": [
    "## OPERAÇÕES COM MATRIZES"
   ]
  },
  {
   "cell_type": "code",
   "execution_count": 29,
   "metadata": {},
   "outputs": [
    {
     "name": "stdout",
     "output_type": "stream",
     "text": [
      "[[-0.5  0.   0. ]\n",
      " [-3.  -3.  -3. ]]\n",
      "[[-0.5  0.   0. ]\n",
      " [-3.  -3.  -3. ]]\n",
      "[[2.5 4.  6. ]\n",
      " [5.  7.  9. ]]\n",
      "[[2.5 4.  6. ]\n",
      " [5.  7.  9. ]]\n",
      "[[0.66666667 1.         1.        ]\n",
      " [0.25       0.4        0.5       ]]\n",
      "[[0.66666667 1.         1.        ]\n",
      " [0.25       0.4        0.5       ]]\n",
      "[[ 1.5  4.   9. ]\n",
      " [ 4.  10.  18. ]]\n",
      "[[ 1.5  4.   9. ]\n",
      " [ 4.  10.  18. ]]\n",
      "[[  4.48168907   7.3890561   20.08553692]\n",
      " [ 54.59815003 148.4131591  403.42879349]]\n",
      "[[1.22474487 1.41421356 1.73205081]\n",
      " [2.         2.23606798 2.44948974]]\n",
      "[0.84147098 0.90929743 0.14112001]\n",
      "[[ 0.0707372  -0.41614684 -0.9899925 ]\n",
      " [-0.65364362  0.28366219  0.96017029]]\n",
      "[[0.         0.69314718 1.09861229]\n",
      " [0.         0.69314718 1.09861229]]\n"
     ]
    }
   ],
   "source": [
    "a = np.array([1, 2, 3])\n",
    "b = np.array([(1.5, 2, 3), (4, 5, 6,)])\n",
    "c = np.array([[(1.5, 2, 3), (4, 5, 6,)], [(3, 2, 1), (4, 5, 6)]])\n",
    "#subtração de arrays \n",
    "r1 = a - b\n",
    "print(r1)\n",
    "r2 = np.subtract(a, b) \n",
    "print(r2)\n",
    "#adição de arrays \n",
    "r3 = b + a \n",
    "print(r3)\n",
    "r4 = np.add(b, a) \n",
    "print(r4)\n",
    "#divisão de arrays \n",
    "r5 = a / b\n",
    "print(r5)\n",
    "r6 = np.divide(a, b) \n",
    "print(r6)\n",
    "#produto de arrays \n",
    "r7 = a * b\n",
    "print(r7)\n",
    "r8 = (np.multiply(a, b)) \n",
    "print(r8)\n",
    "#exponenciação \n",
    "print(np.exp(b))\n",
    "#raiz \n",
    "print(np.sqrt(b))\n",
    "#seno \n",
    "print(np.sin(a))\n",
    "#coseno \n",
    "print(np.cos(b))\n",
    "#logaritmo \n",
    "print(np.log(a, b))"
   ]
  },
  {
   "cell_type": "markdown",
   "metadata": {},
   "source": [
    "# PANDAS"
   ]
  },
  {
   "cell_type": "code",
   "execution_count": 3,
   "metadata": {},
   "outputs": [
    {
     "data": {
      "text/plain": [
       "'1.1.4'"
      ]
     },
     "execution_count": 3,
     "metadata": {},
     "output_type": "execute_result"
    }
   ],
   "source": [
    "import pandas \n",
    "pandas.__version__"
   ]
  },
  {
   "cell_type": "markdown",
   "metadata": {},
   "source": [
    "## PANDAS SÉRIES"
   ]
  },
  {
   "cell_type": "code",
   "execution_count": 4,
   "metadata": {},
   "outputs": [
    {
     "name": "stdout",
     "output_type": "stream",
     "text": [
      "0    1\n",
      "1    2\n",
      "2    3\n",
      "3    4\n",
      "4    5\n",
      "dtype: int64\n"
     ]
    }
   ],
   "source": [
    "import pandas as pd\n",
    "s = pd.Series([1,2,3,4,5]) \n",
    "print(s)"
   ]
  },
  {
   "cell_type": "markdown",
   "metadata": {},
   "source": [
    "## Definidos os índices"
   ]
  },
  {
   "cell_type": "code",
   "execution_count": 5,
   "metadata": {},
   "outputs": [
    {
     "name": "stdout",
     "output_type": "stream",
     "text": [
      "1\n",
      "1\n"
     ]
    }
   ],
   "source": [
    "s = pd.Series ([1,2], index = ['a', 'b']) \n",
    "print(s['a'])\n",
    "print(s[0])"
   ]
  },
  {
   "cell_type": "markdown",
   "metadata": {},
   "source": [
    "##  Dicionários – Trabalhando com JSON dentro do Python"
   ]
  },
  {
   "cell_type": "code",
   "execution_count": 8,
   "metadata": {},
   "outputs": [
    {
     "name": "stdout",
     "output_type": "stream",
     "text": [
      "{'one': 'uno', 'two': 'dos', 'three': 'tres'}\n"
     ]
    }
   ],
   "source": [
    "eng2sp = {}\n",
    "eng2sp['one'] = 'uno' \n",
    "eng2sp['two'] = 'dos' \n",
    "eng2sp['three'] = 'tres'\n",
    "print(eng2sp)"
   ]
  },
  {
   "cell_type": "markdown",
   "metadata": {},
   "source": [
    "## Outra maneira"
   ]
  },
  {
   "cell_type": "code",
   "execution_count": 9,
   "metadata": {},
   "outputs": [
    {
     "name": "stdout",
     "output_type": "stream",
     "text": [
      "{'three': 'tres', 'one': 'uno', 'two': 'dos'}\n"
     ]
    }
   ],
   "source": [
    "eng2sp = {'three': 'tres', 'one': 'uno', 'two': 'dos'} \n",
    "print(eng2sp)"
   ]
  },
  {
   "cell_type": "markdown",
   "metadata": {},
   "source": [
    "## Podemos iterar sobre a vista ou transformar a vista em uma lista usando a função list de conversã"
   ]
  },
  {
   "cell_type": "code",
   "execution_count": 2,
   "metadata": {},
   "outputs": [
    {
     "name": "stdout",
     "output_type": "stream",
     "text": [
      "Got key apples which maps to value 430\n",
      "Got key bananas which maps to value 312\n",
      "Got key oranges which maps to value 525\n",
      "Got key pears which maps to value 217\n",
      "['apples', 'bananas', 'oranges', 'pears']\n",
      "Got key apples\n",
      "Got key bananas\n",
      "Got key oranges\n",
      "Got key pears\n"
     ]
    }
   ],
   "source": [
    "inventory = {'apples': 430, 'bananas': 312, 'oranges': 525, 'pears': 217}\n",
    "for akey in inventory.keys(): # the order in which we get the keys is not defined\n",
    "    print(\"Got key\", akey, \"which maps to value\", inventory[akey])\n",
    "ks = list(inventory.keys()) \n",
    "print(ks)\n",
    "for k in inventory: \n",
    "    print(\"Got key\", k)"
   ]
  },
  {
   "cell_type": "markdown",
   "metadata": {},
   "source": [
    "# PANDAS DATAFRAME"
   ]
  },
  {
   "cell_type": "code",
   "execution_count": 2,
   "metadata": {},
   "outputs": [
    {
     "name": "stdout",
     "output_type": "stream",
     "text": [
      "          0\n",
      "0      João\n",
      "1  Fernando\n",
      "2  Gilberto\n",
      "3    Felipe\n",
      "4     Maria\n",
      "5   Eduarda\n",
      "6   Mikaela\n",
      "7    Nicole\n"
     ]
    }
   ],
   "source": [
    "import pandas as pd\n",
    "lst = ['João','Fernando','Gilberto','Felipe','Maria','Eduarda','Mikaela','Nicole']\n",
    "df = pd.DataFrame(lst) \n",
    "print(df )"
   ]
  },
  {
   "cell_type": "code",
   "execution_count": 3,
   "metadata": {},
   "outputs": [
    {
     "name": "stdout",
     "output_type": "stream",
     "text": [
      "       Nome  Idade\n",
      "0  Henrique     20\n",
      "1     Joana     21\n",
      "2    Felipe     19\n",
      "3      Jane     18\n"
     ]
    }
   ],
   "source": [
    "data = {'Nome':['Henrique', 'Joana', 'Felipe', 'Jane'], 'Idade':[20, 21, 19, 18]}\n",
    "df = pd.DataFrame(data) \n",
    "print(df )"
   ]
  },
  {
   "cell_type": "code",
   "execution_count": 4,
   "metadata": {},
   "outputs": [
    {
     "name": "stdout",
     "output_type": "stream",
     "text": [
      "        foo       bar\n",
      "a  0.262922  0.045897\n",
      "b  0.722610  0.793258\n",
      "c  0.670277  0.693167\n",
      "   A    B\n",
      "0  0  0.0\n",
      "1  0  0.0\n",
      "2  0  0.0\n"
     ]
    }
   ],
   "source": [
    "import numpy as np\n",
    "ex1 = pd.DataFrame(np.random.rand(3, 2), columns=['foo', 'bar'], index=['a', 'b', 'c'])\n",
    "print(ex1)\n",
    "ex2 = pd.DataFrame(np.zeros(3, dtype=[('A', 'i8'), ('B', 'f8')])) \n",
    "print(ex2)"
   ]
  },
  {
   "cell_type": "markdown",
   "metadata": {},
   "source": [
    "## ACESSANDO E MANIPULANDO DADOS COM DATAFRAMES"
   ]
  },
  {
   "cell_type": "code",
   "execution_count": 6,
   "metadata": {},
   "outputs": [
    {
     "name": "stdout",
     "output_type": "stream",
     "text": [
      "a    0.038256\n",
      "b    0.511895\n",
      "c    0.638353\n",
      "Name: foo, dtype: float64\n",
      "a    0.167190\n",
      "b    0.260351\n",
      "c    0.649405\n",
      "Name: bar, dtype: float64\n",
      "        foo       bar\n",
      "a  0.038256  0.167190\n",
      "b  0.511895  0.260351\n",
      "c  0.638353  0.649405\n"
     ]
    }
   ],
   "source": [
    "import numpy as np\n",
    "dados = pd.DataFrame(np.random.rand(3, 2), columns=['foo', 'bar'], index=['a', 'b', 'c'])\n",
    "#Exibe os dados da coluna foo \n",
    "print(dados[\"foo\"].head())\n",
    "#Exibe os dados da coluina bar \n",
    "print(dados[\"bar\"].head())\n",
    "#cria um array com nome de varias colunas \n",
    "colunas = [\"foo\",\"bar\"]\n",
    "#Exibe os dados das colunas utilizando o array criado \n",
    "print(dados[colunas].head())"
   ]
  },
  {
   "cell_type": "markdown",
   "metadata": {},
   "source": [
    "##  Obter todos os dados estatísticos "
   ]
  },
  {
   "cell_type": "code",
   "execution_count": 7,
   "metadata": {},
   "outputs": [
    {
     "name": "stdout",
     "output_type": "stream",
     "text": [
      "foo    0.396168\n",
      "bar    0.358982\n",
      "dtype: float64\n",
      "foo    1.188504\n",
      "bar    1.076946\n",
      "dtype: float64\n",
      "foo    0.038256\n",
      "bar    0.167190\n",
      "dtype: float64\n",
      "foo    0.638353\n",
      "bar    0.649405\n",
      "dtype: float64\n",
      "            foo       bar\n",
      "count  3.000000  3.000000\n",
      "mean   0.396168  0.358982\n",
      "std    0.316344  0.255791\n",
      "min    0.038256  0.167190\n",
      "25%    0.275076  0.213770\n",
      "50%    0.511895  0.260351\n",
      "75%    0.575124  0.454878\n",
      "max    0.638353  0.649405\n"
     ]
    }
   ],
   "source": [
    "#Exibindo a média do DataFrame \n",
    "print(dados.mean())\n",
    "#Exibindo a soma do DataFrame \n",
    "print(dados.sum())\n",
    "#Exibindo o valor minimo do DataFrame \n",
    "print(dados.min())\n",
    "#Exibindo o valor máximo do DataFrame \n",
    "print(dados.max())\n",
    "#Exibindo os dados estatísticos do DataFrame \n",
    "print(dados.describe())"
   ]
  },
  {
   "cell_type": "markdown",
   "metadata": {},
   "source": [
    "## Plotar todo o DataFrame"
   ]
  },
  {
   "cell_type": "code",
   "execution_count": 11,
   "metadata": {},
   "outputs": [
    {
     "data": {
      "text/plain": [
       "<AxesSubplot:>"
      ]
     },
     "execution_count": 11,
     "metadata": {},
     "output_type": "execute_result"
    },
    {
     "data": {
      "image/png": "[encoded data removed]",
      "text/plain": [
       "<Figure size 432x288 with 1 Axes>"
      ]
     },
     "metadata": {
      "needs_background": "light"
     },
     "output_type": "display_data"
    }
   ],
   "source": [
    "dados.foo.plot()"
   ]
  },
  {
   "cell_type": "markdown",
   "metadata": {},
   "source": [
    "## UTILIZANDO QUERY EM DATAFRAMES"
   ]
  },
  {
   "cell_type": "code",
   "execution_count": 14,
   "metadata": {},
   "outputs": [
    {
     "name": "stdout",
     "output_type": "stream",
     "text": [
      "Empty DataFrame\n",
      "Columns: [foo, bar]\n",
      "Index: []\n",
      "        foo       bar\n",
      "a  0.038256  0.167190\n",
      "b  0.511895  0.260351\n",
      "c  0.638353  0.649405\n",
      "        foo       bar\n",
      "b  0.511895  0.260351\n",
      "c  0.638353  0.649405\n",
      "        foo      bar\n",
      "a  0.038256  0.16719\n"
     ]
    }
   ],
   "source": [
    "print(dados.query(\"foo==0.275076\"))\n",
    "print(dados.query(\"foo!=0.275076\")) \n",
    "print(dados.query(\"foo>0.275076\"))\n",
    "print(dados.query(\"foo<=0.275076\"))"
   ]
  },
  {
   "cell_type": "code",
   "execution_count": null,
   "metadata": {},
   "outputs": [],
   "source": []
  }
 ],
 "metadata": {
  "kernelspec": {
   "display_name": "Python 3",
   "language": "python",
   "name": "python3"
  },
  "language_info": {
   "codemirror_mode": {
    "name": "ipython",
    "version": 3
   },
   "file_extension": ".py",
   "mimetype": "text/x-python",
   "name": "python",
   "nbconvert_exporter": "python",
   "pygments_lexer": "ipython3",
   "version": "3.7.9"
  }
 },
 "nbformat": 4,
 "nbformat_minor": 4
}
